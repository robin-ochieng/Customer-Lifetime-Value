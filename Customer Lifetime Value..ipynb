{
 "cells": [
  {
   "cell_type": "code",
   "execution_count": 2,
   "id": "e68264b9",
   "metadata": {},
   "outputs": [],
   "source": [
    "import numpy as np\n",
    "import pandas as pd\n",
    "import matplotlib.pyplot as plt\n",
    "from datetime import timedelta\n",
    "import seaborn as sns\n",
    "\n",
    "from lifetimes import BetaGeoFitter, GammaGammaFitter\n",
    "from lifetimes.utils import \\\n",
    "    calibration_and_holdout_data, \\\n",
    "    summary_data_from_transaction_data, \\\n",
    "    calculate_alive_path\n",
    "from lifetimes.plotting import \\\n",
    "    plot_frequency_recency_matrix, \\\n",
    "    plot_probability_alive_matrix, \\\n",
    "    plot_period_transactions, \\\n",
    "    plot_history_alive, \\\n",
    "    plot_cumulative_transactions, \\\n",
    "    plot_calibration_purchases_vs_holdout_purchases, \\\n",
    "    plot_transaction_rate_heterogeneity, \\\n",
    "    plot_dropout_rate_heterogeneity\n",
    "\n",
    "\n",
    "import warnings\n",
    "warnings.filterwarnings(\"ignore\")\n",
    "\n",
    "%matplotlib inline\n",
    "sns.set(rc={'image.cmap': 'coolwarm'})\n",
    "\n",
    "pd.set_option(\"display.precision\",2)\n",
    "np.set_printoptions(precision=2, suppress=True)\n",
    "pd.options.display.float_format = '{:,.0f}'.format"
   ]
  },
  {
   "cell_type": "code",
   "execution_count": 3,
   "id": "8c8cd1ea",
   "metadata": {},
   "outputs": [],
   "source": [
    "df_buss_table = pd.read_csv(\"C:\\\\Users\\\\pc\\\\Downloads\\\\Businesses_table.csv\")"
   ]
  },
  {
   "cell_type": "code",
   "execution_count": 4,
   "id": "ea827479",
   "metadata": {},
   "outputs": [],
   "source": [
    "data = pd.read_csv(\"C:\\\\Users\\\\pc\\\\Downloads\\\\transaction_subset.csv\", parse_dates= True)"
   ]
  },
  {
   "cell_type": "code",
   "execution_count": 5,
   "id": "eda1e6d6",
   "metadata": {},
   "outputs": [
    {
     "data": {
      "text/plain": [
       "transaction_uuid      object\n",
       "business_uuid         object\n",
       "created               object\n",
       "transaction_type      object\n",
       "amount_usd           float64\n",
       "transaction_state     object\n",
       "processing_time      float64\n",
       "phone_type            object\n",
       "reader_type           object\n",
       "connection_type       object\n",
       "dtype: object"
      ]
     },
     "execution_count": 5,
     "metadata": {},
     "output_type": "execute_result"
    }
   ],
   "source": [
    "data.dtypes"
   ]
  },
  {
   "cell_type": "code",
   "execution_count": 6,
   "id": "ac34cce6",
   "metadata": {},
   "outputs": [
    {
     "data": {
      "text/plain": [
       "(15391, 10)"
      ]
     },
     "execution_count": 6,
     "metadata": {},
     "output_type": "execute_result"
    }
   ],
   "source": [
    "data.shape"
   ]
  },
  {
   "cell_type": "markdown",
   "id": "5b740ffc",
   "metadata": {},
   "source": [
    "#### check for missing values"
   ]
  },
  {
   "cell_type": "code",
   "execution_count": 7,
   "id": "1e8ee739",
   "metadata": {},
   "outputs": [
    {
     "data": {
      "text/plain": [
       "transaction_uuid        0\n",
       "business_uuid           1\n",
       "created                 1\n",
       "transaction_type        1\n",
       "amount_usd              1\n",
       "transaction_state       1\n",
       "processing_time      1642\n",
       "phone_type           4540\n",
       "reader_type          5865\n",
       "connection_type      6018\n",
       "dtype: int64"
      ]
     },
     "execution_count": 7,
     "metadata": {},
     "output_type": "execute_result"
    }
   ],
   "source": [
    "data.isnull().sum(axis=0)"
   ]
  },
  {
   "cell_type": "code",
   "execution_count": 8,
   "id": "c73c5197",
   "metadata": {},
   "outputs": [
    {
     "data": {
      "text/html": [
       "<div>\n",
       "<style scoped>\n",
       "    .dataframe tbody tr th:only-of-type {\n",
       "        vertical-align: middle;\n",
       "    }\n",
       "\n",
       "    .dataframe tbody tr th {\n",
       "        vertical-align: top;\n",
       "    }\n",
       "\n",
       "    .dataframe thead th {\n",
       "        text-align: right;\n",
       "    }\n",
       "</style>\n",
       "<table border=\"1\" class=\"dataframe\">\n",
       "  <thead>\n",
       "    <tr style=\"text-align: right;\">\n",
       "      <th></th>\n",
       "      <th>transaction_uuid</th>\n",
       "      <th>business_uuid</th>\n",
       "      <th>created</th>\n",
       "      <th>transaction_type</th>\n",
       "      <th>amount_usd</th>\n",
       "      <th>transaction_state</th>\n",
       "      <th>processing_time</th>\n",
       "      <th>phone_type</th>\n",
       "      <th>reader_type</th>\n",
       "      <th>connection_type</th>\n",
       "    </tr>\n",
       "  </thead>\n",
       "  <tbody>\n",
       "    <tr>\n",
       "      <th>0</th>\n",
       "      <td>1424437465609-285a18be-f2fa-4d4c-a2ef-3bef9f3e...</td>\n",
       "      <td>1409234980651-de3fff31-3d87-47e4-bb1a-12beafcd...</td>\n",
       "      <td>2015-02-20 13:04:25.607+00</td>\n",
       "      <td>credit_card</td>\n",
       "      <td>60</td>\n",
       "      <td>approved</td>\n",
       "      <td>19</td>\n",
       "      <td>NaN</td>\n",
       "      <td>NaN</td>\n",
       "      <td>NaN</td>\n",
       "    </tr>\n",
       "    <tr>\n",
       "      <th>6</th>\n",
       "      <td>1436089984929-37f9362f-a4b7-4092-9f76-d45e447a...</td>\n",
       "      <td>1431433133107-089d14c3-5435-4b33-9973-70e2c0ff...</td>\n",
       "      <td>2015-07-05 09:53:04.927+00</td>\n",
       "      <td>credit_card</td>\n",
       "      <td>145</td>\n",
       "      <td>approved</td>\n",
       "      <td>16</td>\n",
       "      <td>NaN</td>\n",
       "      <td>NaN</td>\n",
       "      <td>NaN</td>\n",
       "    </tr>\n",
       "    <tr>\n",
       "      <th>7</th>\n",
       "      <td>1438060492782-ea30db6b-be65-4d4c-a7d9-c6efe474...</td>\n",
       "      <td>1434354856779-1294da8e-95cd-4594-a337-eb1b461b...</td>\n",
       "      <td>2015-07-28 05:14:52.78+00</td>\n",
       "      <td>credit_card</td>\n",
       "      <td>39</td>\n",
       "      <td>approved</td>\n",
       "      <td>15</td>\n",
       "      <td>NaN</td>\n",
       "      <td>NaN</td>\n",
       "      <td>NaN</td>\n",
       "    </tr>\n",
       "    <tr>\n",
       "      <th>8</th>\n",
       "      <td>1432304404374-7d6f52c6-b6e1-44e2-bf30-79b24115...</td>\n",
       "      <td>1424869704616-f6183d7b-1482-46ca-87e5-461aeec2...</td>\n",
       "      <td>2015-05-22 14:20:04.372+00</td>\n",
       "      <td>credit_card</td>\n",
       "      <td>10</td>\n",
       "      <td>approved</td>\n",
       "      <td>16</td>\n",
       "      <td>NaN</td>\n",
       "      <td>NaN</td>\n",
       "      <td>NaN</td>\n",
       "    </tr>\n",
       "    <tr>\n",
       "      <th>10</th>\n",
       "      <td>1427711746123-1133cea0-5cee-4124-80c9-e9d41c9d...</td>\n",
       "      <td>1414229837135-05cd5b05-3234-46df-9eb3-37f985b5...</td>\n",
       "      <td>2015-03-30 10:35:46.123+00</td>\n",
       "      <td>refund</td>\n",
       "      <td>-110</td>\n",
       "      <td>approved</td>\n",
       "      <td>NaN</td>\n",
       "      <td>NaN</td>\n",
       "      <td>NaN</td>\n",
       "      <td>NaN</td>\n",
       "    </tr>\n",
       "    <tr>\n",
       "      <th>...</th>\n",
       "      <td>...</td>\n",
       "      <td>...</td>\n",
       "      <td>...</td>\n",
       "      <td>...</td>\n",
       "      <td>...</td>\n",
       "      <td>...</td>\n",
       "      <td>...</td>\n",
       "      <td>...</td>\n",
       "      <td>...</td>\n",
       "      <td>...</td>\n",
       "    </tr>\n",
       "    <tr>\n",
       "      <th>15385</th>\n",
       "      <td>1432977685700-91aab571-f60f-4d29-9ca0-14fef28c...</td>\n",
       "      <td>1423729367094-337ac28c-dae5-4960-afab-19133561...</td>\n",
       "      <td>2015-05-30 09:21:25.698+00</td>\n",
       "      <td>credit_card</td>\n",
       "      <td>210</td>\n",
       "      <td>approved</td>\n",
       "      <td>12</td>\n",
       "      <td>NaN</td>\n",
       "      <td>NaN</td>\n",
       "      <td>NaN</td>\n",
       "    </tr>\n",
       "    <tr>\n",
       "      <th>15386</th>\n",
       "      <td>1434115552770-617cb55e-c974-4e67-90cc-3049d881...</td>\n",
       "      <td>1431433133107-089d14c3-5435-4b33-9973-70e2c0ff...</td>\n",
       "      <td>2015-06-12 13:25:52.768+00</td>\n",
       "      <td>credit_card</td>\n",
       "      <td>170</td>\n",
       "      <td>approved</td>\n",
       "      <td>16</td>\n",
       "      <td>NaN</td>\n",
       "      <td>NaN</td>\n",
       "      <td>NaN</td>\n",
       "    </tr>\n",
       "    <tr>\n",
       "      <th>15387</th>\n",
       "      <td>1435408952457-a920b6d0-e627-410e-9ead-0a5cb32b...</td>\n",
       "      <td>1429030235172-cd21ab3c-c47c-4f9a-b1fa-683c8ec5...</td>\n",
       "      <td>2015-06-27 12:42:32.455+00</td>\n",
       "      <td>credit_card</td>\n",
       "      <td>65</td>\n",
       "      <td>approved</td>\n",
       "      <td>14</td>\n",
       "      <td>NaN</td>\n",
       "      <td>NaN</td>\n",
       "      <td>NaN</td>\n",
       "    </tr>\n",
       "    <tr>\n",
       "      <th>15389</th>\n",
       "      <td>1447677754844-1e2560d5-24ec-4cae-8a43-d8a2a577...</td>\n",
       "      <td>1444976393870-0a898070-6802-4e0d-9dbd-16b2e03e...</td>\n",
       "      <td>2015-11-16 12:42:32.763+00</td>\n",
       "      <td>cash</td>\n",
       "      <td>75</td>\n",
       "      <td>approved</td>\n",
       "      <td>NaN</td>\n",
       "      <td>ios</td>\n",
       "      <td>NaN</td>\n",
       "      <td>NaN</td>\n",
       "    </tr>\n",
       "    <tr>\n",
       "      <th>15390</th>\n",
       "      <td>1431768065391-cd1de</td>\n",
       "      <td>NaN</td>\n",
       "      <td>NaN</td>\n",
       "      <td>NaN</td>\n",
       "      <td>NaN</td>\n",
       "      <td>NaN</td>\n",
       "      <td>NaN</td>\n",
       "      <td>NaN</td>\n",
       "      <td>NaN</td>\n",
       "      <td>NaN</td>\n",
       "    </tr>\n",
       "  </tbody>\n",
       "</table>\n",
       "<p>6210 rows × 10 columns</p>\n",
       "</div>"
      ],
      "text/plain": [
       "                                        transaction_uuid  \\\n",
       "0      1424437465609-285a18be-f2fa-4d4c-a2ef-3bef9f3e...   \n",
       "6      1436089984929-37f9362f-a4b7-4092-9f76-d45e447a...   \n",
       "7      1438060492782-ea30db6b-be65-4d4c-a7d9-c6efe474...   \n",
       "8      1432304404374-7d6f52c6-b6e1-44e2-bf30-79b24115...   \n",
       "10     1427711746123-1133cea0-5cee-4124-80c9-e9d41c9d...   \n",
       "...                                                  ...   \n",
       "15385  1432977685700-91aab571-f60f-4d29-9ca0-14fef28c...   \n",
       "15386  1434115552770-617cb55e-c974-4e67-90cc-3049d881...   \n",
       "15387  1435408952457-a920b6d0-e627-410e-9ead-0a5cb32b...   \n",
       "15389  1447677754844-1e2560d5-24ec-4cae-8a43-d8a2a577...   \n",
       "15390                                1431768065391-cd1de   \n",
       "\n",
       "                                           business_uuid  \\\n",
       "0      1409234980651-de3fff31-3d87-47e4-bb1a-12beafcd...   \n",
       "6      1431433133107-089d14c3-5435-4b33-9973-70e2c0ff...   \n",
       "7      1434354856779-1294da8e-95cd-4594-a337-eb1b461b...   \n",
       "8      1424869704616-f6183d7b-1482-46ca-87e5-461aeec2...   \n",
       "10     1414229837135-05cd5b05-3234-46df-9eb3-37f985b5...   \n",
       "...                                                  ...   \n",
       "15385  1423729367094-337ac28c-dae5-4960-afab-19133561...   \n",
       "15386  1431433133107-089d14c3-5435-4b33-9973-70e2c0ff...   \n",
       "15387  1429030235172-cd21ab3c-c47c-4f9a-b1fa-683c8ec5...   \n",
       "15389  1444976393870-0a898070-6802-4e0d-9dbd-16b2e03e...   \n",
       "15390                                                NaN   \n",
       "\n",
       "                          created transaction_type  amount_usd  \\\n",
       "0      2015-02-20 13:04:25.607+00      credit_card          60   \n",
       "6      2015-07-05 09:53:04.927+00      credit_card         145   \n",
       "7       2015-07-28 05:14:52.78+00      credit_card          39   \n",
       "8      2015-05-22 14:20:04.372+00      credit_card          10   \n",
       "10     2015-03-30 10:35:46.123+00           refund        -110   \n",
       "...                           ...              ...         ...   \n",
       "15385  2015-05-30 09:21:25.698+00      credit_card         210   \n",
       "15386  2015-06-12 13:25:52.768+00      credit_card         170   \n",
       "15387  2015-06-27 12:42:32.455+00      credit_card          65   \n",
       "15389  2015-11-16 12:42:32.763+00             cash          75   \n",
       "15390                         NaN              NaN         NaN   \n",
       "\n",
       "      transaction_state  processing_time phone_type reader_type  \\\n",
       "0              approved               19        NaN         NaN   \n",
       "6              approved               16        NaN         NaN   \n",
       "7              approved               15        NaN         NaN   \n",
       "8              approved               16        NaN         NaN   \n",
       "10             approved              NaN        NaN         NaN   \n",
       "...                 ...              ...        ...         ...   \n",
       "15385          approved               12        NaN         NaN   \n",
       "15386          approved               16        NaN         NaN   \n",
       "15387          approved               14        NaN         NaN   \n",
       "15389          approved              NaN        ios         NaN   \n",
       "15390               NaN              NaN        NaN         NaN   \n",
       "\n",
       "      connection_type  \n",
       "0                 NaN  \n",
       "6                 NaN  \n",
       "7                 NaN  \n",
       "8                 NaN  \n",
       "10                NaN  \n",
       "...               ...  \n",
       "15385             NaN  \n",
       "15386             NaN  \n",
       "15387             NaN  \n",
       "15389             NaN  \n",
       "15390             NaN  \n",
       "\n",
       "[6210 rows x 10 columns]"
      ]
     },
     "execution_count": 8,
     "metadata": {},
     "output_type": "execute_result"
    }
   ],
   "source": [
    "data[data.isnull().any(axis=1)]"
   ]
  },
  {
   "cell_type": "markdown",
   "id": "1b634b61",
   "metadata": {},
   "source": [
    "##### data wrangling"
   ]
  },
  {
   "cell_type": "markdown",
   "id": "2fd85a9b",
   "metadata": {},
   "source": [
    "#### create a new dataset df1 so as to retain the original dataframe, then delete the rows where the customers cannot be identified\n",
    " "
   ]
  },
  {
   "cell_type": "code",
   "execution_count": 9,
   "id": "46fe6149",
   "metadata": {},
   "outputs": [],
   "source": [
    "data1 = data.copy()"
   ]
  },
  {
   "cell_type": "code",
   "execution_count": 10,
   "id": "e9c6528e",
   "metadata": {},
   "outputs": [],
   "source": [
    "data1 = data1[pd.notnull(data1[\"business_uuid\"])]"
   ]
  },
  {
   "cell_type": "code",
   "execution_count": 11,
   "id": "2069701e",
   "metadata": {},
   "outputs": [
    {
     "data": {
      "text/plain": [
       "(15390, 10)"
      ]
     },
     "execution_count": 11,
     "metadata": {},
     "output_type": "execute_result"
    }
   ],
   "source": [
    "data1.shape"
   ]
  },
  {
   "cell_type": "code",
   "execution_count": 12,
   "id": "f378740f",
   "metadata": {},
   "outputs": [
    {
     "data": {
      "text/html": [
       "<div>\n",
       "<style scoped>\n",
       "    .dataframe tbody tr th:only-of-type {\n",
       "        vertical-align: middle;\n",
       "    }\n",
       "\n",
       "    .dataframe tbody tr th {\n",
       "        vertical-align: top;\n",
       "    }\n",
       "\n",
       "    .dataframe thead th {\n",
       "        text-align: right;\n",
       "    }\n",
       "</style>\n",
       "<table border=\"1\" class=\"dataframe\">\n",
       "  <thead>\n",
       "    <tr style=\"text-align: right;\">\n",
       "      <th></th>\n",
       "      <th>transaction_uuid</th>\n",
       "      <th>business_uuid</th>\n",
       "      <th>created</th>\n",
       "      <th>transaction_type</th>\n",
       "      <th>amount_usd</th>\n",
       "      <th>transaction_state</th>\n",
       "      <th>processing_time</th>\n",
       "      <th>phone_type</th>\n",
       "      <th>reader_type</th>\n",
       "      <th>connection_type</th>\n",
       "    </tr>\n",
       "  </thead>\n",
       "  <tbody>\n",
       "    <tr>\n",
       "      <th>0</th>\n",
       "      <td>1424437465609-285a18be-f2fa-4d4c-a2ef-3bef9f3e...</td>\n",
       "      <td>1409234980651-de3fff31-3d87-47e4-bb1a-12beafcd...</td>\n",
       "      <td>2015-02-20 13:04:25.607+00</td>\n",
       "      <td>credit_card</td>\n",
       "      <td>60</td>\n",
       "      <td>approved</td>\n",
       "      <td>19</td>\n",
       "      <td>NaN</td>\n",
       "      <td>NaN</td>\n",
       "      <td>NaN</td>\n",
       "    </tr>\n",
       "    <tr>\n",
       "      <th>1</th>\n",
       "      <td>1444994656054-91a37566-c9ce-435a-ae8f-5f9aeb27...</td>\n",
       "      <td>1431433133107-089d14c3-5435-4b33-9973-70e2c0ff...</td>\n",
       "      <td>2015-10-16 11:24:16.052+00</td>\n",
       "      <td>credit_card</td>\n",
       "      <td>220</td>\n",
       "      <td>approved</td>\n",
       "      <td>16</td>\n",
       "      <td>ios</td>\n",
       "      <td>E105</td>\n",
       "      <td>WiFi</td>\n",
       "    </tr>\n",
       "    <tr>\n",
       "      <th>2</th>\n",
       "      <td>1451311977458-d794c535-d696-4830-b4b6-93c52ca5...</td>\n",
       "      <td>1442575726431-a066cad9-8f66-45da-abd8-165ce0a7...</td>\n",
       "      <td>2015-12-28 14:12:57.455+00</td>\n",
       "      <td>credit_card</td>\n",
       "      <td>90</td>\n",
       "      <td>approved</td>\n",
       "      <td>14</td>\n",
       "      <td>ios</td>\n",
       "      <td>E105</td>\n",
       "      <td>WiFi</td>\n",
       "    </tr>\n",
       "    <tr>\n",
       "      <th>3</th>\n",
       "      <td>1444763353752-bac376b0-80d9-46f5-9e21-9def71ee...</td>\n",
       "      <td>1436133508444-8d874705-6448-4d8d-88e0-5b0f8f4c...</td>\n",
       "      <td>2015-10-13 19:09:13.75+00</td>\n",
       "      <td>credit_card</td>\n",
       "      <td>135</td>\n",
       "      <td>approved</td>\n",
       "      <td>15</td>\n",
       "      <td>ios</td>\n",
       "      <td>M010</td>\n",
       "      <td>WiFi</td>\n",
       "    </tr>\n",
       "    <tr>\n",
       "      <th>4</th>\n",
       "      <td>1449883535047-1a9e1d5e-6151-4593-86db-bf504ab7...</td>\n",
       "      <td>1436123092750-68fb87cc-d43b-4468-9137-2841db30...</td>\n",
       "      <td>2015-12-12 01:25:35.047+00</td>\n",
       "      <td>credit_card</td>\n",
       "      <td>162</td>\n",
       "      <td>approved</td>\n",
       "      <td>15</td>\n",
       "      <td>ios</td>\n",
       "      <td>M010</td>\n",
       "      <td>WiFi</td>\n",
       "    </tr>\n",
       "  </tbody>\n",
       "</table>\n",
       "</div>"
      ],
      "text/plain": [
       "                                    transaction_uuid  \\\n",
       "0  1424437465609-285a18be-f2fa-4d4c-a2ef-3bef9f3e...   \n",
       "1  1444994656054-91a37566-c9ce-435a-ae8f-5f9aeb27...   \n",
       "2  1451311977458-d794c535-d696-4830-b4b6-93c52ca5...   \n",
       "3  1444763353752-bac376b0-80d9-46f5-9e21-9def71ee...   \n",
       "4  1449883535047-1a9e1d5e-6151-4593-86db-bf504ab7...   \n",
       "\n",
       "                                       business_uuid  \\\n",
       "0  1409234980651-de3fff31-3d87-47e4-bb1a-12beafcd...   \n",
       "1  1431433133107-089d14c3-5435-4b33-9973-70e2c0ff...   \n",
       "2  1442575726431-a066cad9-8f66-45da-abd8-165ce0a7...   \n",
       "3  1436133508444-8d874705-6448-4d8d-88e0-5b0f8f4c...   \n",
       "4  1436123092750-68fb87cc-d43b-4468-9137-2841db30...   \n",
       "\n",
       "                      created transaction_type  amount_usd transaction_state  \\\n",
       "0  2015-02-20 13:04:25.607+00      credit_card          60          approved   \n",
       "1  2015-10-16 11:24:16.052+00      credit_card         220          approved   \n",
       "2  2015-12-28 14:12:57.455+00      credit_card          90          approved   \n",
       "3   2015-10-13 19:09:13.75+00      credit_card         135          approved   \n",
       "4  2015-12-12 01:25:35.047+00      credit_card         162          approved   \n",
       "\n",
       "   processing_time phone_type reader_type connection_type  \n",
       "0               19        NaN         NaN             NaN  \n",
       "1               16        ios        E105            WiFi  \n",
       "2               14        ios        E105            WiFi  \n",
       "3               15        ios        M010            WiFi  \n",
       "4               15        ios        M010            WiFi  "
      ]
     },
     "execution_count": 12,
     "metadata": {},
     "output_type": "execute_result"
    }
   ],
   "source": [
    "data1.head()"
   ]
  },
  {
   "cell_type": "markdown",
   "id": "1856c7fd",
   "metadata": {},
   "source": [
    "##### reviewing the numerical variables. from results We observe negative amount_usd. These must have been product returns or cancellations. We need to remove their records."
   ]
  },
  {
   "cell_type": "code",
   "execution_count": 13,
   "id": "8bb6a607",
   "metadata": {},
   "outputs": [
    {
     "data": {
      "text/html": [
       "<div>\n",
       "<style scoped>\n",
       "    .dataframe tbody tr th:only-of-type {\n",
       "        vertical-align: middle;\n",
       "    }\n",
       "\n",
       "    .dataframe tbody tr th {\n",
       "        vertical-align: top;\n",
       "    }\n",
       "\n",
       "    .dataframe thead th {\n",
       "        text-align: right;\n",
       "    }\n",
       "</style>\n",
       "<table border=\"1\" class=\"dataframe\">\n",
       "  <thead>\n",
       "    <tr style=\"text-align: right;\">\n",
       "      <th></th>\n",
       "      <th>transaction_uuid</th>\n",
       "      <th>business_uuid</th>\n",
       "      <th>created</th>\n",
       "      <th>transaction_type</th>\n",
       "      <th>amount_usd</th>\n",
       "      <th>transaction_state</th>\n",
       "      <th>processing_time</th>\n",
       "      <th>phone_type</th>\n",
       "      <th>reader_type</th>\n",
       "      <th>connection_type</th>\n",
       "    </tr>\n",
       "  </thead>\n",
       "  <tbody>\n",
       "    <tr>\n",
       "      <th>10</th>\n",
       "      <td>1427711746123-1133cea0-5cee-4124-80c9-e9d41c9d...</td>\n",
       "      <td>1414229837135-05cd5b05-3234-46df-9eb3-37f985b5...</td>\n",
       "      <td>2015-03-30 10:35:46.123+00</td>\n",
       "      <td>refund</td>\n",
       "      <td>-110</td>\n",
       "      <td>approved</td>\n",
       "      <td>NaN</td>\n",
       "      <td>NaN</td>\n",
       "      <td>NaN</td>\n",
       "      <td>NaN</td>\n",
       "    </tr>\n",
       "    <tr>\n",
       "      <th>170</th>\n",
       "      <td>1441119319455-ff54e03b-4ba2-4637-af01-addab1cb...</td>\n",
       "      <td>1413213171217-be88b1f4-ae0d-46c9-9210-ab72e2d5...</td>\n",
       "      <td>2015-09-01 14:55:19.455+00</td>\n",
       "      <td>refund</td>\n",
       "      <td>-2</td>\n",
       "      <td>approved</td>\n",
       "      <td>NaN</td>\n",
       "      <td>NaN</td>\n",
       "      <td>NaN</td>\n",
       "      <td>NaN</td>\n",
       "    </tr>\n",
       "    <tr>\n",
       "      <th>375</th>\n",
       "      <td>1444827045662-081aca09-fecc-47d2-978d-28abb566...</td>\n",
       "      <td>1413213171217-be88b1f4-ae0d-46c9-9210-ab72e2d5...</td>\n",
       "      <td>2015-10-14 12:50:45.662+00</td>\n",
       "      <td>refund</td>\n",
       "      <td>-1</td>\n",
       "      <td>approved</td>\n",
       "      <td>NaN</td>\n",
       "      <td>NaN</td>\n",
       "      <td>NaN</td>\n",
       "      <td>NaN</td>\n",
       "    </tr>\n",
       "    <tr>\n",
       "      <th>392</th>\n",
       "      <td>1440667213859-20fe5990-8732-44c2-a977-3a6c4bec...</td>\n",
       "      <td>1436882887795-63ca1223-bbf2-455e-9693-1a2ae62a...</td>\n",
       "      <td>2015-08-27 09:20:13.859+00</td>\n",
       "      <td>refund</td>\n",
       "      <td>-2</td>\n",
       "      <td>approved</td>\n",
       "      <td>NaN</td>\n",
       "      <td>NaN</td>\n",
       "      <td>NaN</td>\n",
       "      <td>NaN</td>\n",
       "    </tr>\n",
       "    <tr>\n",
       "      <th>490</th>\n",
       "      <td>1421169160288-da9a4418-df59-419f-b015-33477f49...</td>\n",
       "      <td>1413213171217-be88b1f4-ae0d-46c9-9210-ab72e2d5...</td>\n",
       "      <td>2015-01-13 17:12:40.288+00</td>\n",
       "      <td>refund</td>\n",
       "      <td>-140</td>\n",
       "      <td>approved</td>\n",
       "      <td>NaN</td>\n",
       "      <td>NaN</td>\n",
       "      <td>NaN</td>\n",
       "      <td>NaN</td>\n",
       "    </tr>\n",
       "    <tr>\n",
       "      <th>...</th>\n",
       "      <td>...</td>\n",
       "      <td>...</td>\n",
       "      <td>...</td>\n",
       "      <td>...</td>\n",
       "      <td>...</td>\n",
       "      <td>...</td>\n",
       "      <td>...</td>\n",
       "      <td>...</td>\n",
       "      <td>...</td>\n",
       "      <td>...</td>\n",
       "    </tr>\n",
       "    <tr>\n",
       "      <th>14751</th>\n",
       "      <td>1441025517936-27959de8-0b46-496e-8afa-fb7f90cd...</td>\n",
       "      <td>1439395992943-30dad8bf-6d97-47f1-a59b-f32be589...</td>\n",
       "      <td>2015-08-31 12:51:57.936+00</td>\n",
       "      <td>refund</td>\n",
       "      <td>-1,400</td>\n",
       "      <td>approved</td>\n",
       "      <td>NaN</td>\n",
       "      <td>NaN</td>\n",
       "      <td>M010</td>\n",
       "      <td>NaN</td>\n",
       "    </tr>\n",
       "    <tr>\n",
       "      <th>14775</th>\n",
       "      <td>1440005671206-94d70acc-45ba-4d46-af39-0e62c841...</td>\n",
       "      <td>1413213171217-be88b1f4-ae0d-46c9-9210-ab72e2d5...</td>\n",
       "      <td>2015-08-19 17:34:31.206+00</td>\n",
       "      <td>refund</td>\n",
       "      <td>-20</td>\n",
       "      <td>approved</td>\n",
       "      <td>NaN</td>\n",
       "      <td>NaN</td>\n",
       "      <td>NaN</td>\n",
       "      <td>NaN</td>\n",
       "    </tr>\n",
       "    <tr>\n",
       "      <th>14981</th>\n",
       "      <td>1432798700199-34278ae2-b05b-4b39-aa29-e167a475...</td>\n",
       "      <td>1413213171217-be88b1f4-ae0d-46c9-9210-ab72e2d5...</td>\n",
       "      <td>2015-05-28 07:38:20.199+00</td>\n",
       "      <td>refund</td>\n",
       "      <td>-1</td>\n",
       "      <td>approved</td>\n",
       "      <td>NaN</td>\n",
       "      <td>NaN</td>\n",
       "      <td>NaN</td>\n",
       "      <td>NaN</td>\n",
       "    </tr>\n",
       "    <tr>\n",
       "      <th>15116</th>\n",
       "      <td>1443686368975-75b3723d-a411-4c7d-b61e-0072f286...</td>\n",
       "      <td>1413213171217-be88b1f4-ae0d-46c9-9210-ab72e2d5...</td>\n",
       "      <td>2015-10-01 07:59:28.975+00</td>\n",
       "      <td>refund</td>\n",
       "      <td>-1</td>\n",
       "      <td>approved</td>\n",
       "      <td>NaN</td>\n",
       "      <td>NaN</td>\n",
       "      <td>NaN</td>\n",
       "      <td>NaN</td>\n",
       "    </tr>\n",
       "    <tr>\n",
       "      <th>15159</th>\n",
       "      <td>1440073759956-6efceca6-413d-4380-929a-0b771e31...</td>\n",
       "      <td>1416991968075-1e231c80-b8de-47c6-9612-9feb7504...</td>\n",
       "      <td>2015-08-20 12:29:19.956+00</td>\n",
       "      <td>refund</td>\n",
       "      <td>-10</td>\n",
       "      <td>approved</td>\n",
       "      <td>NaN</td>\n",
       "      <td>NaN</td>\n",
       "      <td>NaN</td>\n",
       "      <td>NaN</td>\n",
       "    </tr>\n",
       "  </tbody>\n",
       "</table>\n",
       "<p>153 rows × 10 columns</p>\n",
       "</div>"
      ],
      "text/plain": [
       "                                        transaction_uuid  \\\n",
       "10     1427711746123-1133cea0-5cee-4124-80c9-e9d41c9d...   \n",
       "170    1441119319455-ff54e03b-4ba2-4637-af01-addab1cb...   \n",
       "375    1444827045662-081aca09-fecc-47d2-978d-28abb566...   \n",
       "392    1440667213859-20fe5990-8732-44c2-a977-3a6c4bec...   \n",
       "490    1421169160288-da9a4418-df59-419f-b015-33477f49...   \n",
       "...                                                  ...   \n",
       "14751  1441025517936-27959de8-0b46-496e-8afa-fb7f90cd...   \n",
       "14775  1440005671206-94d70acc-45ba-4d46-af39-0e62c841...   \n",
       "14981  1432798700199-34278ae2-b05b-4b39-aa29-e167a475...   \n",
       "15116  1443686368975-75b3723d-a411-4c7d-b61e-0072f286...   \n",
       "15159  1440073759956-6efceca6-413d-4380-929a-0b771e31...   \n",
       "\n",
       "                                           business_uuid  \\\n",
       "10     1414229837135-05cd5b05-3234-46df-9eb3-37f985b5...   \n",
       "170    1413213171217-be88b1f4-ae0d-46c9-9210-ab72e2d5...   \n",
       "375    1413213171217-be88b1f4-ae0d-46c9-9210-ab72e2d5...   \n",
       "392    1436882887795-63ca1223-bbf2-455e-9693-1a2ae62a...   \n",
       "490    1413213171217-be88b1f4-ae0d-46c9-9210-ab72e2d5...   \n",
       "...                                                  ...   \n",
       "14751  1439395992943-30dad8bf-6d97-47f1-a59b-f32be589...   \n",
       "14775  1413213171217-be88b1f4-ae0d-46c9-9210-ab72e2d5...   \n",
       "14981  1413213171217-be88b1f4-ae0d-46c9-9210-ab72e2d5...   \n",
       "15116  1413213171217-be88b1f4-ae0d-46c9-9210-ab72e2d5...   \n",
       "15159  1416991968075-1e231c80-b8de-47c6-9612-9feb7504...   \n",
       "\n",
       "                          created transaction_type  amount_usd  \\\n",
       "10     2015-03-30 10:35:46.123+00           refund        -110   \n",
       "170    2015-09-01 14:55:19.455+00           refund          -2   \n",
       "375    2015-10-14 12:50:45.662+00           refund          -1   \n",
       "392    2015-08-27 09:20:13.859+00           refund          -2   \n",
       "490    2015-01-13 17:12:40.288+00           refund        -140   \n",
       "...                           ...              ...         ...   \n",
       "14751  2015-08-31 12:51:57.936+00           refund      -1,400   \n",
       "14775  2015-08-19 17:34:31.206+00           refund         -20   \n",
       "14981  2015-05-28 07:38:20.199+00           refund          -1   \n",
       "15116  2015-10-01 07:59:28.975+00           refund          -1   \n",
       "15159  2015-08-20 12:29:19.956+00           refund         -10   \n",
       "\n",
       "      transaction_state  processing_time phone_type reader_type  \\\n",
       "10             approved              NaN        NaN         NaN   \n",
       "170            approved              NaN        NaN         NaN   \n",
       "375            approved              NaN        NaN         NaN   \n",
       "392            approved              NaN        NaN         NaN   \n",
       "490            approved              NaN        NaN         NaN   \n",
       "...                 ...              ...        ...         ...   \n",
       "14751          approved              NaN        NaN        M010   \n",
       "14775          approved              NaN        NaN         NaN   \n",
       "14981          approved              NaN        NaN         NaN   \n",
       "15116          approved              NaN        NaN         NaN   \n",
       "15159          approved              NaN        NaN         NaN   \n",
       "\n",
       "      connection_type  \n",
       "10                NaN  \n",
       "170               NaN  \n",
       "375               NaN  \n",
       "392               NaN  \n",
       "490               NaN  \n",
       "...               ...  \n",
       "14751             NaN  \n",
       "14775             NaN  \n",
       "14981             NaN  \n",
       "15116             NaN  \n",
       "15159             NaN  \n",
       "\n",
       "[153 rows x 10 columns]"
      ]
     },
     "execution_count": 13,
     "metadata": {},
     "output_type": "execute_result"
    }
   ],
   "source": [
    "data1[data1[\"amount_usd\"]<=0]"
   ]
  },
  {
   "cell_type": "code",
   "execution_count": 14,
   "id": "84c3be8c",
   "metadata": {},
   "outputs": [
    {
     "data": {
      "text/html": [
       "<div>\n",
       "<style scoped>\n",
       "    .dataframe tbody tr th:only-of-type {\n",
       "        vertical-align: middle;\n",
       "    }\n",
       "\n",
       "    .dataframe tbody tr th {\n",
       "        vertical-align: top;\n",
       "    }\n",
       "\n",
       "    .dataframe thead th {\n",
       "        text-align: right;\n",
       "    }\n",
       "</style>\n",
       "<table border=\"1\" class=\"dataframe\">\n",
       "  <thead>\n",
       "    <tr style=\"text-align: right;\">\n",
       "      <th></th>\n",
       "      <th>amount_usd</th>\n",
       "      <th>processing_time</th>\n",
       "    </tr>\n",
       "  </thead>\n",
       "  <tbody>\n",
       "    <tr>\n",
       "      <th>count</th>\n",
       "      <td>15,390</td>\n",
       "      <td>13,749</td>\n",
       "    </tr>\n",
       "    <tr>\n",
       "      <th>mean</th>\n",
       "      <td>290</td>\n",
       "      <td>24</td>\n",
       "    </tr>\n",
       "    <tr>\n",
       "      <th>std</th>\n",
       "      <td>1,505</td>\n",
       "      <td>365</td>\n",
       "    </tr>\n",
       "    <tr>\n",
       "      <th>min</th>\n",
       "      <td>-4,633</td>\n",
       "      <td>-10</td>\n",
       "    </tr>\n",
       "    <tr>\n",
       "      <th>25%</th>\n",
       "      <td>57</td>\n",
       "      <td>12</td>\n",
       "    </tr>\n",
       "    <tr>\n",
       "      <th>50%</th>\n",
       "      <td>128</td>\n",
       "      <td>15</td>\n",
       "    </tr>\n",
       "    <tr>\n",
       "      <th>75%</th>\n",
       "      <td>275</td>\n",
       "      <td>20</td>\n",
       "    </tr>\n",
       "    <tr>\n",
       "      <th>max</th>\n",
       "      <td>100,455</td>\n",
       "      <td>41,772</td>\n",
       "    </tr>\n",
       "  </tbody>\n",
       "</table>\n",
       "</div>"
      ],
      "text/plain": [
       "       amount_usd  processing_time\n",
       "count      15,390           13,749\n",
       "mean          290               24\n",
       "std         1,505              365\n",
       "min        -4,633              -10\n",
       "25%            57               12\n",
       "50%           128               15\n",
       "75%           275               20\n",
       "max       100,455           41,772"
      ]
     },
     "execution_count": 14,
     "metadata": {},
     "output_type": "execute_result"
    }
   ],
   "source": [
    "data1.describe()"
   ]
  },
  {
   "cell_type": "markdown",
   "id": "a12667d7",
   "metadata": {},
   "source": [
    "### thus the dataset will be restricted to positive amounts in usd "
   ]
  },
  {
   "cell_type": "code",
   "execution_count": 15,
   "id": "a2c5e649",
   "metadata": {},
   "outputs": [],
   "source": [
    "data1 = data1[data1[\"amount_usd\"]>0]"
   ]
  },
  {
   "cell_type": "code",
   "execution_count": 16,
   "id": "45103d6e",
   "metadata": {},
   "outputs": [
    {
     "data": {
      "text/html": [
       "<div>\n",
       "<style scoped>\n",
       "    .dataframe tbody tr th:only-of-type {\n",
       "        vertical-align: middle;\n",
       "    }\n",
       "\n",
       "    .dataframe tbody tr th {\n",
       "        vertical-align: top;\n",
       "    }\n",
       "\n",
       "    .dataframe thead th {\n",
       "        text-align: right;\n",
       "    }\n",
       "</style>\n",
       "<table border=\"1\" class=\"dataframe\">\n",
       "  <thead>\n",
       "    <tr style=\"text-align: right;\">\n",
       "      <th></th>\n",
       "      <th>transaction_uuid</th>\n",
       "      <th>business_uuid</th>\n",
       "      <th>created</th>\n",
       "      <th>transaction_type</th>\n",
       "      <th>amount_usd</th>\n",
       "      <th>transaction_state</th>\n",
       "      <th>processing_time</th>\n",
       "      <th>phone_type</th>\n",
       "      <th>reader_type</th>\n",
       "      <th>connection_type</th>\n",
       "    </tr>\n",
       "  </thead>\n",
       "  <tbody>\n",
       "    <tr>\n",
       "      <th>0</th>\n",
       "      <td>1424437465609-285a18be-f2fa-4d4c-a2ef-3bef9f3e...</td>\n",
       "      <td>1409234980651-de3fff31-3d87-47e4-bb1a-12beafcd...</td>\n",
       "      <td>2015-02-20 13:04:25.607+00</td>\n",
       "      <td>credit_card</td>\n",
       "      <td>60</td>\n",
       "      <td>approved</td>\n",
       "      <td>19</td>\n",
       "      <td>NaN</td>\n",
       "      <td>NaN</td>\n",
       "      <td>NaN</td>\n",
       "    </tr>\n",
       "    <tr>\n",
       "      <th>1</th>\n",
       "      <td>1444994656054-91a37566-c9ce-435a-ae8f-5f9aeb27...</td>\n",
       "      <td>1431433133107-089d14c3-5435-4b33-9973-70e2c0ff...</td>\n",
       "      <td>2015-10-16 11:24:16.052+00</td>\n",
       "      <td>credit_card</td>\n",
       "      <td>220</td>\n",
       "      <td>approved</td>\n",
       "      <td>16</td>\n",
       "      <td>ios</td>\n",
       "      <td>E105</td>\n",
       "      <td>WiFi</td>\n",
       "    </tr>\n",
       "    <tr>\n",
       "      <th>2</th>\n",
       "      <td>1451311977458-d794c535-d696-4830-b4b6-93c52ca5...</td>\n",
       "      <td>1442575726431-a066cad9-8f66-45da-abd8-165ce0a7...</td>\n",
       "      <td>2015-12-28 14:12:57.455+00</td>\n",
       "      <td>credit_card</td>\n",
       "      <td>90</td>\n",
       "      <td>approved</td>\n",
       "      <td>14</td>\n",
       "      <td>ios</td>\n",
       "      <td>E105</td>\n",
       "      <td>WiFi</td>\n",
       "    </tr>\n",
       "    <tr>\n",
       "      <th>3</th>\n",
       "      <td>1444763353752-bac376b0-80d9-46f5-9e21-9def71ee...</td>\n",
       "      <td>1436133508444-8d874705-6448-4d8d-88e0-5b0f8f4c...</td>\n",
       "      <td>2015-10-13 19:09:13.75+00</td>\n",
       "      <td>credit_card</td>\n",
       "      <td>135</td>\n",
       "      <td>approved</td>\n",
       "      <td>15</td>\n",
       "      <td>ios</td>\n",
       "      <td>M010</td>\n",
       "      <td>WiFi</td>\n",
       "    </tr>\n",
       "    <tr>\n",
       "      <th>4</th>\n",
       "      <td>1449883535047-1a9e1d5e-6151-4593-86db-bf504ab7...</td>\n",
       "      <td>1436123092750-68fb87cc-d43b-4468-9137-2841db30...</td>\n",
       "      <td>2015-12-12 01:25:35.047+00</td>\n",
       "      <td>credit_card</td>\n",
       "      <td>162</td>\n",
       "      <td>approved</td>\n",
       "      <td>15</td>\n",
       "      <td>ios</td>\n",
       "      <td>M010</td>\n",
       "      <td>WiFi</td>\n",
       "    </tr>\n",
       "  </tbody>\n",
       "</table>\n",
       "</div>"
      ],
      "text/plain": [
       "                                    transaction_uuid  \\\n",
       "0  1424437465609-285a18be-f2fa-4d4c-a2ef-3bef9f3e...   \n",
       "1  1444994656054-91a37566-c9ce-435a-ae8f-5f9aeb27...   \n",
       "2  1451311977458-d794c535-d696-4830-b4b6-93c52ca5...   \n",
       "3  1444763353752-bac376b0-80d9-46f5-9e21-9def71ee...   \n",
       "4  1449883535047-1a9e1d5e-6151-4593-86db-bf504ab7...   \n",
       "\n",
       "                                       business_uuid  \\\n",
       "0  1409234980651-de3fff31-3d87-47e4-bb1a-12beafcd...   \n",
       "1  1431433133107-089d14c3-5435-4b33-9973-70e2c0ff...   \n",
       "2  1442575726431-a066cad9-8f66-45da-abd8-165ce0a7...   \n",
       "3  1436133508444-8d874705-6448-4d8d-88e0-5b0f8f4c...   \n",
       "4  1436123092750-68fb87cc-d43b-4468-9137-2841db30...   \n",
       "\n",
       "                      created transaction_type  amount_usd transaction_state  \\\n",
       "0  2015-02-20 13:04:25.607+00      credit_card          60          approved   \n",
       "1  2015-10-16 11:24:16.052+00      credit_card         220          approved   \n",
       "2  2015-12-28 14:12:57.455+00      credit_card          90          approved   \n",
       "3   2015-10-13 19:09:13.75+00      credit_card         135          approved   \n",
       "4  2015-12-12 01:25:35.047+00      credit_card         162          approved   \n",
       "\n",
       "   processing_time phone_type reader_type connection_type  \n",
       "0               19        NaN         NaN             NaN  \n",
       "1               16        ios        E105            WiFi  \n",
       "2               14        ios        E105            WiFi  \n",
       "3               15        ios        M010            WiFi  \n",
       "4               15        ios        M010            WiFi  "
      ]
     },
     "execution_count": 16,
     "metadata": {},
     "output_type": "execute_result"
    }
   ],
   "source": [
    "data1.head()"
   ]
  },
  {
   "cell_type": "markdown",
   "id": "1e4b151a",
   "metadata": {},
   "source": [
    "### change the date created variable from object to datetime, here we use the dt.date method to remove the time componen from the created time column "
   ]
  },
  {
   "cell_type": "code",
   "execution_count": 17,
   "id": "f960aed9",
   "metadata": {},
   "outputs": [],
   "source": [
    "data1[\"created\"] = pd.to_datetime(data1[\"created\"]).dt.date"
   ]
  },
  {
   "cell_type": "code",
   "execution_count": 18,
   "id": "de1927d6",
   "metadata": {},
   "outputs": [],
   "source": [
    "data1[\"created\"] = data1[\"created\"].astype(\"datetime64[ns]\")"
   ]
  },
  {
   "cell_type": "markdown",
   "id": "812cbccd",
   "metadata": {},
   "source": [
    "##### review the categorical variables AND find that The dataset comprises 491 unique business IDs and 361 dates within the time horizon."
   ]
  },
  {
   "cell_type": "code",
   "execution_count": 19,
   "id": "bacefa06",
   "metadata": {},
   "outputs": [
    {
     "data": {
      "text/html": [
       "<div>\n",
       "<style scoped>\n",
       "    .dataframe tbody tr th:only-of-type {\n",
       "        vertical-align: middle;\n",
       "    }\n",
       "\n",
       "    .dataframe tbody tr th {\n",
       "        vertical-align: top;\n",
       "    }\n",
       "\n",
       "    .dataframe thead th {\n",
       "        text-align: right;\n",
       "    }\n",
       "</style>\n",
       "<table border=\"1\" class=\"dataframe\">\n",
       "  <thead>\n",
       "    <tr style=\"text-align: right;\">\n",
       "      <th></th>\n",
       "      <th>count</th>\n",
       "      <th>unique</th>\n",
       "      <th>top</th>\n",
       "      <th>freq</th>\n",
       "    </tr>\n",
       "  </thead>\n",
       "  <tbody>\n",
       "    <tr>\n",
       "      <th>transaction_uuid</th>\n",
       "      <td>15237</td>\n",
       "      <td>15236</td>\n",
       "      <td>1429009470977-7f1a01b8-2005-40d3-9e02-ba60ce1c...</td>\n",
       "      <td>2</td>\n",
       "    </tr>\n",
       "    <tr>\n",
       "      <th>business_uuid</th>\n",
       "      <td>15237</td>\n",
       "      <td>491</td>\n",
       "      <td>1431433133107-089d14c3-5435-4b33-9973-70e2c0ff...</td>\n",
       "      <td>907</td>\n",
       "    </tr>\n",
       "    <tr>\n",
       "      <th>transaction_type</th>\n",
       "      <td>15237</td>\n",
       "      <td>2</td>\n",
       "      <td>credit_card</td>\n",
       "      <td>14602</td>\n",
       "    </tr>\n",
       "    <tr>\n",
       "      <th>transaction_state</th>\n",
       "      <td>15237</td>\n",
       "      <td>5</td>\n",
       "      <td>approved</td>\n",
       "      <td>12121</td>\n",
       "    </tr>\n",
       "    <tr>\n",
       "      <th>phone_type</th>\n",
       "      <td>10845</td>\n",
       "      <td>4</td>\n",
       "      <td>ios</td>\n",
       "      <td>9223</td>\n",
       "    </tr>\n",
       "    <tr>\n",
       "      <th>reader_type</th>\n",
       "      <td>9523</td>\n",
       "      <td>8</td>\n",
       "      <td>M010</td>\n",
       "      <td>6543</td>\n",
       "    </tr>\n",
       "    <tr>\n",
       "      <th>connection_type</th>\n",
       "      <td>9371</td>\n",
       "      <td>11</td>\n",
       "      <td>WiFi</td>\n",
       "      <td>7823</td>\n",
       "    </tr>\n",
       "  </tbody>\n",
       "</table>\n",
       "</div>"
      ],
      "text/plain": [
       "                   count unique  \\\n",
       "transaction_uuid   15237  15236   \n",
       "business_uuid      15237    491   \n",
       "transaction_type   15237      2   \n",
       "transaction_state  15237      5   \n",
       "phone_type         10845      4   \n",
       "reader_type         9523      8   \n",
       "connection_type     9371     11   \n",
       "\n",
       "                                                                 top   freq  \n",
       "transaction_uuid   1429009470977-7f1a01b8-2005-40d3-9e02-ba60ce1c...      2  \n",
       "business_uuid      1431433133107-089d14c3-5435-4b33-9973-70e2c0ff...    907  \n",
       "transaction_type                                         credit_card  14602  \n",
       "transaction_state                                           approved  12121  \n",
       "phone_type                                                       ios   9223  \n",
       "reader_type                                                     M010   6543  \n",
       "connection_type                                                 WiFi   7823  "
      ]
     },
     "execution_count": 19,
     "metadata": {},
     "output_type": "execute_result"
    }
   ],
   "source": [
    "data1.describe(include=\"object\").T"
   ]
  },
  {
   "cell_type": "code",
   "execution_count": 20,
   "id": "7ffe7595",
   "metadata": {},
   "outputs": [
    {
     "data": {
      "text/plain": [
       "count                   15237\n",
       "unique                    361\n",
       "top       2015-12-18 00:00:00\n",
       "freq                      177\n",
       "first     2015-01-02 00:00:00\n",
       "last      2015-12-30 00:00:00\n",
       "Name: created, dtype: object"
      ]
     },
     "execution_count": 20,
     "metadata": {},
     "output_type": "execute_result"
    }
   ],
   "source": [
    "data1[\"created\"].describe()"
   ]
  },
  {
   "cell_type": "markdown",
   "id": "847c748b",
   "metadata": {},
   "source": [
    "#### pick the neccesary columns that i need for the analysi"
   ]
  },
  {
   "cell_type": "code",
   "execution_count": 21,
   "id": "4f90a7c5",
   "metadata": {},
   "outputs": [
    {
     "data": {
      "text/html": [
       "<div>\n",
       "<style scoped>\n",
       "    .dataframe tbody tr th:only-of-type {\n",
       "        vertical-align: middle;\n",
       "    }\n",
       "\n",
       "    .dataframe tbody tr th {\n",
       "        vertical-align: top;\n",
       "    }\n",
       "\n",
       "    .dataframe thead th {\n",
       "        text-align: right;\n",
       "    }\n",
       "</style>\n",
       "<table border=\"1\" class=\"dataframe\">\n",
       "  <thead>\n",
       "    <tr style=\"text-align: right;\">\n",
       "      <th></th>\n",
       "      <th>created</th>\n",
       "      <th>business_uuid</th>\n",
       "      <th>amount_usd</th>\n",
       "    </tr>\n",
       "  </thead>\n",
       "  <tbody>\n",
       "    <tr>\n",
       "      <th>0</th>\n",
       "      <td>2015-02-20</td>\n",
       "      <td>1409234980651-de3fff31-3d87-47e4-bb1a-12beafcd...</td>\n",
       "      <td>60</td>\n",
       "    </tr>\n",
       "    <tr>\n",
       "      <th>1</th>\n",
       "      <td>2015-10-16</td>\n",
       "      <td>1431433133107-089d14c3-5435-4b33-9973-70e2c0ff...</td>\n",
       "      <td>220</td>\n",
       "    </tr>\n",
       "    <tr>\n",
       "      <th>2</th>\n",
       "      <td>2015-12-28</td>\n",
       "      <td>1442575726431-a066cad9-8f66-45da-abd8-165ce0a7...</td>\n",
       "      <td>90</td>\n",
       "    </tr>\n",
       "    <tr>\n",
       "      <th>3</th>\n",
       "      <td>2015-10-13</td>\n",
       "      <td>1436133508444-8d874705-6448-4d8d-88e0-5b0f8f4c...</td>\n",
       "      <td>135</td>\n",
       "    </tr>\n",
       "    <tr>\n",
       "      <th>4</th>\n",
       "      <td>2015-12-12</td>\n",
       "      <td>1436123092750-68fb87cc-d43b-4468-9137-2841db30...</td>\n",
       "      <td>162</td>\n",
       "    </tr>\n",
       "  </tbody>\n",
       "</table>\n",
       "</div>"
      ],
      "text/plain": [
       "     created                                      business_uuid  amount_usd\n",
       "0 2015-02-20  1409234980651-de3fff31-3d87-47e4-bb1a-12beafcd...          60\n",
       "1 2015-10-16  1431433133107-089d14c3-5435-4b33-9973-70e2c0ff...         220\n",
       "2 2015-12-28  1442575726431-a066cad9-8f66-45da-abd8-165ce0a7...          90\n",
       "3 2015-10-13  1436133508444-8d874705-6448-4d8d-88e0-5b0f8f4c...         135\n",
       "4 2015-12-12  1436123092750-68fb87cc-d43b-4468-9137-2841db30...         162"
      ]
     },
     "execution_count": 21,
     "metadata": {},
     "output_type": "execute_result"
    }
   ],
   "source": [
    "neccesary_col = [\"created\",\"business_uuid\",\"amount_usd\"]\n",
    "data2 = data1[neccesary_col]\n",
    "data2.head()"
   ]
  },
  {
   "cell_type": "code",
   "execution_count": 22,
   "id": "76f6cb2f",
   "metadata": {},
   "outputs": [
    {
     "data": {
      "text/plain": [
       "(15237, 3)"
      ]
     },
     "execution_count": 22,
     "metadata": {},
     "output_type": "execute_result"
    }
   ],
   "source": [
    "data2.shape"
   ]
  },
  {
   "cell_type": "markdown",
   "id": "fc8dcc02",
   "metadata": {},
   "source": [
    "### to check the last transaction date from the date time column"
   ]
  },
  {
   "cell_type": "code",
   "execution_count": 23,
   "id": "c2fba9b3",
   "metadata": {},
   "outputs": [
    {
     "name": "stdout",
     "output_type": "stream",
     "text": [
      "2015-12-30 00:00:00\n"
     ]
    }
   ],
   "source": [
    "lastorder_date = data2[\"created\"].max()\n",
    "print(lastorder_date)"
   ]
  },
  {
   "cell_type": "markdown",
   "id": "4db9576f",
   "metadata": {},
   "source": [
    "### then we use the bult in utility function (summary_data_from_transaction_data) from lifetimes package to transform the transactional data (one row per purchase) into summary data (frequency, recency and monetary)\n"
   ]
  },
  {
   "cell_type": "code",
   "execution_count": 24,
   "id": "9165ac05",
   "metadata": {},
   "outputs": [],
   "source": [
    "lt_data2 = summary_data_from_transaction_data(data2, \"business_uuid\", \"created\", monetary_value_col=\"amount_usd\", observation_period_end = \"2015-12-30 00:00:00\" )"
   ]
  },
  {
   "cell_type": "markdown",
   "id": "372a91a8",
   "metadata": {},
   "source": [
    "###### the T variable below indicates the period between the date of transaction and the observed  period end"
   ]
  },
  {
   "cell_type": "code",
   "execution_count": 25,
   "id": "b18c7439",
   "metadata": {},
   "outputs": [
    {
     "data": {
      "text/html": [
       "<div>\n",
       "<style scoped>\n",
       "    .dataframe tbody tr th:only-of-type {\n",
       "        vertical-align: middle;\n",
       "    }\n",
       "\n",
       "    .dataframe tbody tr th {\n",
       "        vertical-align: top;\n",
       "    }\n",
       "\n",
       "    .dataframe thead th {\n",
       "        text-align: right;\n",
       "    }\n",
       "</style>\n",
       "<table border=\"1\" class=\"dataframe\">\n",
       "  <thead>\n",
       "    <tr style=\"text-align: right;\">\n",
       "      <th></th>\n",
       "      <th>business_uuid</th>\n",
       "      <th>frequency</th>\n",
       "      <th>recency</th>\n",
       "      <th>T</th>\n",
       "      <th>monetary_value</th>\n",
       "    </tr>\n",
       "  </thead>\n",
       "  <tbody>\n",
       "    <tr>\n",
       "      <th>0</th>\n",
       "      <td>1406276528708-f8212391-f625-47cd-a108-dbf13c4a...</td>\n",
       "      <td>2</td>\n",
       "      <td>202</td>\n",
       "      <td>251</td>\n",
       "      <td>746</td>\n",
       "    </tr>\n",
       "    <tr>\n",
       "      <th>1</th>\n",
       "      <td>1407937721690-22878388-e481-46cb-8384-5dea1658...</td>\n",
       "      <td>28</td>\n",
       "      <td>336</td>\n",
       "      <td>348</td>\n",
       "      <td>316</td>\n",
       "    </tr>\n",
       "    <tr>\n",
       "      <th>2</th>\n",
       "      <td>1408597458035-ae9b4dc2-37a2-43b3-8410-834feb19...</td>\n",
       "      <td>135</td>\n",
       "      <td>357</td>\n",
       "      <td>361</td>\n",
       "      <td>152</td>\n",
       "    </tr>\n",
       "    <tr>\n",
       "      <th>3</th>\n",
       "      <td>1408653254676-abd0c2bb-f33c-42f0-a4c0-aa09011e...</td>\n",
       "      <td>17</td>\n",
       "      <td>249</td>\n",
       "      <td>339</td>\n",
       "      <td>418</td>\n",
       "    </tr>\n",
       "    <tr>\n",
       "      <th>4</th>\n",
       "      <td>1409234980651-de3fff31-3d87-47e4-bb1a-12beafcd...</td>\n",
       "      <td>38</td>\n",
       "      <td>348</td>\n",
       "      <td>356</td>\n",
       "      <td>289</td>\n",
       "    </tr>\n",
       "  </tbody>\n",
       "</table>\n",
       "</div>"
      ],
      "text/plain": [
       "                                       business_uuid  frequency  recency   T  \\\n",
       "0  1406276528708-f8212391-f625-47cd-a108-dbf13c4a...          2      202 251   \n",
       "1  1407937721690-22878388-e481-46cb-8384-5dea1658...         28      336 348   \n",
       "2  1408597458035-ae9b4dc2-37a2-43b3-8410-834feb19...        135      357 361   \n",
       "3  1408653254676-abd0c2bb-f33c-42f0-a4c0-aa09011e...         17      249 339   \n",
       "4  1409234980651-de3fff31-3d87-47e4-bb1a-12beafcd...         38      348 356   \n",
       "\n",
       "   monetary_value  \n",
       "0             746  \n",
       "1             316  \n",
       "2             152  \n",
       "3             418  \n",
       "4             289  "
      ]
     },
     "execution_count": 25,
     "metadata": {},
     "output_type": "execute_result"
    }
   ],
   "source": [
    "lt_data2.reset_index().head()"
   ]
  },
  {
   "cell_type": "markdown",
   "id": "37cceeb2",
   "metadata": {},
   "source": [
    "### we create a histogram to check how many custoemers purchsed more than once. from the histogram we see that there is a spike at the first date of transaction meaning most of the customers only transacted once"
   ]
  },
  {
   "cell_type": "code",
   "execution_count": 26,
   "id": "cf1cc60a",
   "metadata": {},
   "outputs": [
    {
     "data": {
      "text/plain": [
       "<matplotlib.axes._subplots.AxesSubplot at 0x1bb92e6ed68>"
      ]
     },
     "execution_count": 26,
     "metadata": {},
     "output_type": "execute_result"
    },
    {
     "data": {
      "image/png": "[encoded data removed]",
      "text/plain": [
       "<Figure size 432x288 with 1 Axes>"
      ]
     },
     "metadata": {},
     "output_type": "display_data"
    }
   ],
   "source": [
    "lt_data2[\"frequency\"].plot(kind=\"hist\", bins = 50)"
   ]
  },
  {
   "cell_type": "markdown",
   "id": "6dac49fd",
   "metadata": {},
   "source": [
    "#### from the results below it can be seen that the analysis is perfomed on 491 customers and the average number of repeat transactions is 16 transactions which means customers on an average make 14 transactions"
   ]
  },
  {
   "cell_type": "code",
   "execution_count": 27,
   "id": "c6161756",
   "metadata": {},
   "outputs": [
    {
     "name": "stdout",
     "output_type": "stream",
     "text": [
      "count   491\n",
      "mean     16\n",
      "std      32\n",
      "min       0\n",
      "25%       0\n",
      "50%       2\n",
      "75%      14\n",
      "max     209\n",
      "Name: frequency, dtype: float64\n"
     ]
    }
   ],
   "source": [
    "print(lt_data2.frequency.describe())"
   ]
  },
  {
   "cell_type": "markdown",
   "id": "44638cd9",
   "metadata": {},
   "source": [
    "#### to obtain the one time transaction customers"
   ]
  },
  {
   "cell_type": "code",
   "execution_count": 28,
   "id": "93cea0a4",
   "metadata": {},
   "outputs": [
    {
     "name": "stdout",
     "output_type": "stream",
     "text": [
      "the percentage of customers who transacted only once: 27.49 %\n"
     ]
    }
   ],
   "source": [
    "onetime_buyers = round(sum(lt_data2[\"frequency\"] == 0)/float(len(lt_data2))*(100),2)\n",
    "print(\"the percentage of customers who transacted only once:\",onetime_buyers, \"%\")"
   ]
  },
  {
   "cell_type": "markdown",
   "id": "5442d31b",
   "metadata": {},
   "source": [
    "### fitting the BG/NBD model to analyse the frequency/ recency"
   ]
  },
  {
   "cell_type": "code",
   "execution_count": 29,
   "id": "90207fac",
   "metadata": {},
   "outputs": [
    {
     "name": "stdout",
     "output_type": "stream",
     "text": [
      "<lifetimes.BetaGeoFitter: fitted with 491 subjects, a: 0.09, alpha: 2.68, b: 0.97, r: 0.43>\n"
     ]
    }
   ],
   "source": [
    "bgf_model = BetaGeoFitter(penalizer_coef=0.0)\n",
    "bgf_model.fit(lt_data2[\"frequency\"], lt_data2[\"recency\"], lt_data2[\"T\"])\n",
    "print(bgf_model)"
   ]
  },
  {
   "cell_type": "code",
   "execution_count": 30,
   "id": "af8258ff",
   "metadata": {},
   "outputs": [
    {
     "data": {
      "text/html": [
       "<div>\n",
       "<style scoped>\n",
       "    .dataframe tbody tr th:only-of-type {\n",
       "        vertical-align: middle;\n",
       "    }\n",
       "\n",
       "    .dataframe tbody tr th {\n",
       "        vertical-align: top;\n",
       "    }\n",
       "\n",
       "    .dataframe thead th {\n",
       "        text-align: right;\n",
       "    }\n",
       "</style>\n",
       "<table border=\"1\" class=\"dataframe\">\n",
       "  <thead>\n",
       "    <tr style=\"text-align: right;\">\n",
       "      <th></th>\n",
       "      <th>coef</th>\n",
       "      <th>se(coef)</th>\n",
       "      <th>lower 95% bound</th>\n",
       "      <th>upper 95% bound</th>\n",
       "    </tr>\n",
       "  </thead>\n",
       "  <tbody>\n",
       "    <tr>\n",
       "      <th>r</th>\n",
       "      <td>0</td>\n",
       "      <td>0</td>\n",
       "      <td>0</td>\n",
       "      <td>0</td>\n",
       "    </tr>\n",
       "    <tr>\n",
       "      <th>alpha</th>\n",
       "      <td>3</td>\n",
       "      <td>0</td>\n",
       "      <td>2</td>\n",
       "      <td>3</td>\n",
       "    </tr>\n",
       "    <tr>\n",
       "      <th>a</th>\n",
       "      <td>0</td>\n",
       "      <td>0</td>\n",
       "      <td>0</td>\n",
       "      <td>0</td>\n",
       "    </tr>\n",
       "    <tr>\n",
       "      <th>b</th>\n",
       "      <td>1</td>\n",
       "      <td>0</td>\n",
       "      <td>0</td>\n",
       "      <td>2</td>\n",
       "    </tr>\n",
       "  </tbody>\n",
       "</table>\n",
       "</div>"
      ],
      "text/plain": [
       "       coef  se(coef)  lower 95% bound  upper 95% bound\n",
       "r         0         0                0                0\n",
       "alpha     3         0                2                3\n",
       "a         0         0                0                0\n",
       "b         1         0                0                2"
      ]
     },
     "execution_count": 30,
     "metadata": {},
     "output_type": "execute_result"
    }
   ],
   "source": [
    "bgf_model.summary"
   ]
  },
  {
   "cell_type": "markdown",
   "id": "f35c1578",
   "metadata": {},
   "source": [
    "#### plotting our frequency/recency matrix which calculates the expected number of transactions a particular customer can make in the next time period based on his recency value that is age from last value and frequency value which is the number of transactions he has made. from the heatmap below the best customer is the one who has transacted 200 times and has a recency of 350. the no so good customer who transacts only once are represented on the top right corner"
   ]
  },
  {
   "cell_type": "code",
   "execution_count": 31,
   "id": "b47b1126",
   "metadata": {},
   "outputs": [
    {
     "data": {
      "text/plain": [
       "<matplotlib.axes._subplots.AxesSubplot at 0x1bb94f84160>"
      ]
     },
     "execution_count": 31,
     "metadata": {},
     "output_type": "execute_result"
    },
    {
     "data": {
      "image/png": "[encoded data removed]",
      "text/plain": [
       "<Figure size 864x576 with 2 Axes>"
      ]
     },
     "metadata": {},
     "output_type": "display_data"
    }
   ],
   "source": [
    "fig = plt.figure(figsize=(12,8))\n",
    "plot_frequency_recency_matrix(bgf_model)"
   ]
  },
  {
   "cell_type": "markdown",
   "id": "42d39fda",
   "metadata": {},
   "source": [
    "#### here we are building prob matrix for the customers who are alive. an alive customer from the heatmap is the one who has had his last puchace when he was 350 days old and has transacted 200 times"
   ]
  },
  {
   "cell_type": "code",
   "execution_count": 32,
   "id": "184c93d6",
   "metadata": {},
   "outputs": [
    {
     "data": {
      "text/plain": [
       "<matplotlib.axes._subplots.AxesSubplot at 0x1bb94f84ef0>"
      ]
     },
     "execution_count": 32,
     "metadata": {},
     "output_type": "execute_result"
    },
    {
     "data": {
      "image/png": "[encoded data removed]",
      "text/plain": [
       "<Figure size 864x576 with 2 Axes>"
      ]
     },
     "metadata": {},
     "output_type": "display_data"
    }
   ],
   "source": [
    "fig = plt.figure(figsize=(12,8))\n",
    "plot_probability_alive_matrix(bgf_model)"
   ]
  },
  {
   "cell_type": "markdown",
   "id": "3b77d24a",
   "metadata": {},
   "source": [
    "#### Next, we Predict future transaction in next 10 days i.e.top 10 customers that the model expects them to make transactions in the next 10 days, based on historical data for example the first customer is expected to make 9 transactions in the next 10 days"
   ]
  },
  {
   "cell_type": "code",
   "execution_count": 33,
   "id": "2eab1cd1",
   "metadata": {},
   "outputs": [
    {
     "data": {
      "text/html": [
       "<div>\n",
       "<style scoped>\n",
       "    .dataframe tbody tr th:only-of-type {\n",
       "        vertical-align: middle;\n",
       "    }\n",
       "\n",
       "    .dataframe tbody tr th {\n",
       "        vertical-align: top;\n",
       "    }\n",
       "\n",
       "    .dataframe thead th {\n",
       "        text-align: right;\n",
       "    }\n",
       "</style>\n",
       "<table border=\"1\" class=\"dataframe\">\n",
       "  <thead>\n",
       "    <tr style=\"text-align: right;\">\n",
       "      <th></th>\n",
       "      <th>business_uuid</th>\n",
       "      <th>frequency</th>\n",
       "      <th>recency</th>\n",
       "      <th>T</th>\n",
       "      <th>monetary_value</th>\n",
       "      <th>predicted_transactions</th>\n",
       "    </tr>\n",
       "  </thead>\n",
       "  <tbody>\n",
       "    <tr>\n",
       "      <th>0</th>\n",
       "      <td>1431433133107-089d14c3-5435-4b33-9973-70e2c0ff...</td>\n",
       "      <td>209</td>\n",
       "      <td>223</td>\n",
       "      <td>223</td>\n",
       "      <td>1,960</td>\n",
       "      <td>9</td>\n",
       "    </tr>\n",
       "    <tr>\n",
       "      <th>1</th>\n",
       "      <td>1440051882363-1378cba4-3b54-4f79-bf18-7045610a...</td>\n",
       "      <td>91</td>\n",
       "      <td>103</td>\n",
       "      <td>103</td>\n",
       "      <td>702</td>\n",
       "      <td>9</td>\n",
       "    </tr>\n",
       "    <tr>\n",
       "      <th>2</th>\n",
       "      <td>1444640278681-657b87fa-93b2-4314-8da0-79691a84...</td>\n",
       "      <td>63</td>\n",
       "      <td>67</td>\n",
       "      <td>67</td>\n",
       "      <td>364</td>\n",
       "      <td>9</td>\n",
       "    </tr>\n",
       "    <tr>\n",
       "      <th>3</th>\n",
       "      <td>1434354856779-1294da8e-95cd-4594-a337-eb1b461b...</td>\n",
       "      <td>175</td>\n",
       "      <td>195</td>\n",
       "      <td>195</td>\n",
       "      <td>297</td>\n",
       "      <td>9</td>\n",
       "    </tr>\n",
       "    <tr>\n",
       "      <th>4</th>\n",
       "      <td>1443443143895-d23c7c27-416b-41eb-9d6d-2f6b409a...</td>\n",
       "      <td>71</td>\n",
       "      <td>86</td>\n",
       "      <td>87</td>\n",
       "      <td>457</td>\n",
       "      <td>8</td>\n",
       "    </tr>\n",
       "    <tr>\n",
       "      <th>5</th>\n",
       "      <td>1434729694021-714fe9df-a366-4d84-b713-9564bd74...</td>\n",
       "      <td>140</td>\n",
       "      <td>188</td>\n",
       "      <td>188</td>\n",
       "      <td>465</td>\n",
       "      <td>7</td>\n",
       "    </tr>\n",
       "    <tr>\n",
       "      <th>6</th>\n",
       "      <td>1433319623496-f6231f02-a6f4-4360-a556-eb1ca83b...</td>\n",
       "      <td>136</td>\n",
       "      <td>200</td>\n",
       "      <td>202</td>\n",
       "      <td>226</td>\n",
       "      <td>7</td>\n",
       "    </tr>\n",
       "    <tr>\n",
       "      <th>7</th>\n",
       "      <td>1446472415656-44c35dce-e20d-464a-bc11-7243fddf...</td>\n",
       "      <td>34</td>\n",
       "      <td>48</td>\n",
       "      <td>48</td>\n",
       "      <td>598</td>\n",
       "      <td>7</td>\n",
       "    </tr>\n",
       "    <tr>\n",
       "      <th>8</th>\n",
       "      <td>1429188663924-25474853-52e5-40c2-aab3-9fd98d41...</td>\n",
       "      <td>172</td>\n",
       "      <td>236</td>\n",
       "      <td>243</td>\n",
       "      <td>233</td>\n",
       "      <td>7</td>\n",
       "    </tr>\n",
       "    <tr>\n",
       "      <th>9</th>\n",
       "      <td>1443173830686-182c32d4-9a13-44ec-9610-8bccec45...</td>\n",
       "      <td>64</td>\n",
       "      <td>95</td>\n",
       "      <td>95</td>\n",
       "      <td>2,169</td>\n",
       "      <td>7</td>\n",
       "    </tr>\n",
       "  </tbody>\n",
       "</table>\n",
       "</div>"
      ],
      "text/plain": [
       "                                       business_uuid  frequency  recency   T  \\\n",
       "0  1431433133107-089d14c3-5435-4b33-9973-70e2c0ff...        209      223 223   \n",
       "1  1440051882363-1378cba4-3b54-4f79-bf18-7045610a...         91      103 103   \n",
       "2  1444640278681-657b87fa-93b2-4314-8da0-79691a84...         63       67  67   \n",
       "3  1434354856779-1294da8e-95cd-4594-a337-eb1b461b...        175      195 195   \n",
       "4  1443443143895-d23c7c27-416b-41eb-9d6d-2f6b409a...         71       86  87   \n",
       "5  1434729694021-714fe9df-a366-4d84-b713-9564bd74...        140      188 188   \n",
       "6  1433319623496-f6231f02-a6f4-4360-a556-eb1ca83b...        136      200 202   \n",
       "7  1446472415656-44c35dce-e20d-464a-bc11-7243fddf...         34       48  48   \n",
       "8  1429188663924-25474853-52e5-40c2-aab3-9fd98d41...        172      236 243   \n",
       "9  1443173830686-182c32d4-9a13-44ec-9610-8bccec45...         64       95  95   \n",
       "\n",
       "   monetary_value  predicted_transactions  \n",
       "0           1,960                       9  \n",
       "1             702                       9  \n",
       "2             364                       9  \n",
       "3             297                       9  \n",
       "4             457                       8  \n",
       "5             465                       7  \n",
       "6             226                       7  \n",
       "7             598                       7  \n",
       "8             233                       7  \n",
       "9           2,169                       7  "
      ]
     },
     "execution_count": 33,
     "metadata": {},
     "output_type": "execute_result"
    }
   ],
   "source": [
    "t = 10 #set the number of days to 10\n",
    "lt_data2[\"predicted_transactions\"] = round(bgf_model.conditional_expected_number_of_purchases_up_to_time(t,lt_data2[\"frequency\"],lt_data2[\"recency\"],lt_data2[\"T\"]))\n",
    "lt_data2.sort_values(by=\"predicted_transactions\", ascending=False).head(10).reset_index()"
   ]
  },
  {
   "cell_type": "markdown",
   "id": "047accc8",
   "metadata": {},
   "source": [
    "### to assess the model fit for the predicted values thus we can see that the model is performing well since actual and model based values are really close"
   ]
  },
  {
   "cell_type": "code",
   "execution_count": 34,
   "id": "37b8b4bb",
   "metadata": {},
   "outputs": [
    {
     "data": {
      "text/plain": [
       "<matplotlib.axes._subplots.AxesSubplot at 0x1bb950e7b70>"
      ]
     },
     "execution_count": 34,
     "metadata": {},
     "output_type": "execute_result"
    },
    {
     "data": {
      "image/png": "[encoded data removed]",
      "text/plain": [
       "<Figure size 432x288 with 1 Axes>"
      ]
     },
     "metadata": {},
     "output_type": "display_data"
    }
   ],
   "source": [
    "plot_period_transactions(bgf_model)"
   ]
  },
  {
   "cell_type": "markdown",
   "id": "86697e21",
   "metadata": {},
   "source": [
    "### gamma gamma model assumes tht their is no correlation between monetary value and transaction frequency thus Check if there is correlation between monetary value and frequency in order to use gamma gamma model for CLV calculation\\"
   ]
  },
  {
   "cell_type": "code",
   "execution_count": 35,
   "id": "083b4d68",
   "metadata": {},
   "outputs": [
    {
     "data": {
      "text/html": [
       "<div>\n",
       "<style scoped>\n",
       "    .dataframe tbody tr th:only-of-type {\n",
       "        vertical-align: middle;\n",
       "    }\n",
       "\n",
       "    .dataframe tbody tr th {\n",
       "        vertical-align: top;\n",
       "    }\n",
       "\n",
       "    .dataframe thead th {\n",
       "        text-align: right;\n",
       "    }\n",
       "</style>\n",
       "<table border=\"1\" class=\"dataframe\">\n",
       "  <thead>\n",
       "    <tr style=\"text-align: right;\">\n",
       "      <th></th>\n",
       "      <th>monetary_value</th>\n",
       "      <th>frequency</th>\n",
       "    </tr>\n",
       "  </thead>\n",
       "  <tbody>\n",
       "    <tr>\n",
       "      <th>monetary_value</th>\n",
       "      <td>1</td>\n",
       "      <td>-0</td>\n",
       "    </tr>\n",
       "    <tr>\n",
       "      <th>frequency</th>\n",
       "      <td>-0</td>\n",
       "      <td>1</td>\n",
       "    </tr>\n",
       "  </tbody>\n",
       "</table>\n",
       "</div>"
      ],
      "text/plain": [
       "                monetary_value  frequency\n",
       "monetary_value               1         -0\n",
       "frequency                   -0          1"
      ]
     },
     "execution_count": 35,
     "metadata": {},
     "output_type": "execute_result"
    }
   ],
   "source": [
    "lt_data2[['monetary_value', 'frequency']].corr()"
   ]
  },
  {
   "cell_type": "code",
   "execution_count": 36,
   "id": "67776dbf",
   "metadata": {},
   "outputs": [
    {
     "name": "stdout",
     "output_type": "stream",
     "text": [
      "                                       business_uuid  frequency  recency   T  \\\n",
      "0  1406276528708-f8212391-f625-47cd-a108-dbf13c4a...          2      202 251   \n",
      "1  1407937721690-22878388-e481-46cb-8384-5dea1658...         28      336 348   \n",
      "2  1408597458035-ae9b4dc2-37a2-43b3-8410-834feb19...        135      357 361   \n",
      "3  1408653254676-abd0c2bb-f33c-42f0-a4c0-aa09011e...         17      249 339   \n",
      "4  1409234980651-de3fff31-3d87-47e4-bb1a-12beafcd...         38      348 356   \n",
      "\n",
      "   monetary_value  predicted_transactions  \n",
      "0             746                       0  \n",
      "1             316                       1  \n",
      "2             152                       4  \n",
      "3             418                       0  \n",
      "4             289                       1  \n",
      "-----------------------------------------\n",
      "The Number of Returning Customers are:  356\n"
     ]
    }
   ],
   "source": [
    "#Shortlist customers who had at least one repeat purchase with the company. \n",
    "shortlisted_customers = lt_data2[lt_data2['frequency']>0]\n",
    "print(shortlisted_customers.head().reset_index())\n",
    "print(\"-----------------------------------------\")\n",
    "print(\"The Number of Returning Customers are: \",len(shortlisted_customers))"
   ]
  },
  {
   "cell_type": "markdown",
   "id": "aec52bac",
   "metadata": {},
   "source": [
    "#### #Train gamma-gamma model by taking into account the monetary_value."
   ]
  },
  {
   "cell_type": "code",
   "execution_count": 37,
   "id": "bbc7327f",
   "metadata": {},
   "outputs": [
    {
     "name": "stdout",
     "output_type": "stream",
     "text": [
      "<lifetimes.GammaGammaFitter: fitted with 356 subjects, p: 0.73, q: 1.18, v: 416.26>\n"
     ]
    }
   ],
   "source": [
    "gamma_gamma_model = GammaGammaFitter(penalizer_coef = 0)\n",
    "gamma_gamma_model.fit(shortlisted_customers['frequency'],shortlisted_customers['monetary_value'])\n",
    "print(gamma_gamma_model)"
   ]
  },
  {
   "cell_type": "markdown",
   "id": "cb5f087e",
   "metadata": {},
   "source": [
    "### After applying Gamma-Gamma model, now we can estimate average transaction value for each customer using the conditional_expected_average_profit method here we can see that "
   ]
  },
  {
   "cell_type": "code",
   "execution_count": 38,
   "id": "7f10e49d",
   "metadata": {},
   "outputs": [
    {
     "name": "stdout",
     "output_type": "stream",
     "text": [
      "business_uuid\n",
      "1406276528708-f8212391-f625-47cd-a108-dbf13c4a82b9     852\n",
      "1407937721690-22878388-e481-46cb-8384-5dea165864f7     328\n",
      "1408597458035-ae9b4dc2-37a2-43b3-8410-834feb1930ab     154\n",
      "1408653254676-abd0c2bb-f33c-42f0-a4c0-aa09011e13e0     437\n",
      "1409234980651-de3fff31-3d87-47e4-bb1a-12beafcdba61     298\n",
      "1409908058188-55c15510-480c-4a6c-a470-b4a1e5006cc0     968\n",
      "1411120534868-d0e07e18-26b7-4e26-a0f3-45736855c3cd     657\n",
      "1412941920235-309e274b-c95b-49f1-8a78-307238281817      49\n",
      "1413213171217-be88b1f4-ae0d-46c9-9210-ab72e2d5c666   1,477\n",
      "1413229685934-2736f63b-6a6c-40a2-9d7a-2f479cc3a890     163\n",
      "dtype: float64\n"
     ]
    }
   ],
   "source": [
    "print(gamma_gamma_model.conditional_expected_average_profit(lt_data2['frequency'], lt_data2['monetary_value']).head(10))"
   ]
  },
  {
   "cell_type": "markdown",
   "id": "ff1a2d55",
   "metadata": {},
   "source": [
    "### add new column on the summary dataframe"
   ]
  },
  {
   "cell_type": "code",
   "execution_count": 39,
   "id": "55266137",
   "metadata": {},
   "outputs": [
    {
     "data": {
      "text/html": [
       "<div>\n",
       "<style scoped>\n",
       "    .dataframe tbody tr th:only-of-type {\n",
       "        vertical-align: middle;\n",
       "    }\n",
       "\n",
       "    .dataframe tbody tr th {\n",
       "        vertical-align: top;\n",
       "    }\n",
       "\n",
       "    .dataframe thead th {\n",
       "        text-align: right;\n",
       "    }\n",
       "</style>\n",
       "<table border=\"1\" class=\"dataframe\">\n",
       "  <thead>\n",
       "    <tr style=\"text-align: right;\">\n",
       "      <th></th>\n",
       "      <th>business_uuid</th>\n",
       "      <th>frequency</th>\n",
       "      <th>recency</th>\n",
       "      <th>T</th>\n",
       "      <th>monetary_value</th>\n",
       "      <th>predicted_transactions</th>\n",
       "      <th>pred_txn_value</th>\n",
       "    </tr>\n",
       "  </thead>\n",
       "  <tbody>\n",
       "    <tr>\n",
       "      <th>0</th>\n",
       "      <td>1406276528708-f8212391-f625-47cd-a108-dbf13c4a...</td>\n",
       "      <td>2</td>\n",
       "      <td>202</td>\n",
       "      <td>251</td>\n",
       "      <td>746</td>\n",
       "      <td>0</td>\n",
       "      <td>852</td>\n",
       "    </tr>\n",
       "    <tr>\n",
       "      <th>1</th>\n",
       "      <td>1407937721690-22878388-e481-46cb-8384-5dea1658...</td>\n",
       "      <td>28</td>\n",
       "      <td>336</td>\n",
       "      <td>348</td>\n",
       "      <td>316</td>\n",
       "      <td>1</td>\n",
       "      <td>328</td>\n",
       "    </tr>\n",
       "    <tr>\n",
       "      <th>2</th>\n",
       "      <td>1408597458035-ae9b4dc2-37a2-43b3-8410-834feb19...</td>\n",
       "      <td>135</td>\n",
       "      <td>357</td>\n",
       "      <td>361</td>\n",
       "      <td>152</td>\n",
       "      <td>4</td>\n",
       "      <td>154</td>\n",
       "    </tr>\n",
       "    <tr>\n",
       "      <th>3</th>\n",
       "      <td>1408653254676-abd0c2bb-f33c-42f0-a4c0-aa09011e...</td>\n",
       "      <td>17</td>\n",
       "      <td>249</td>\n",
       "      <td>339</td>\n",
       "      <td>418</td>\n",
       "      <td>0</td>\n",
       "      <td>437</td>\n",
       "    </tr>\n",
       "    <tr>\n",
       "      <th>4</th>\n",
       "      <td>1409234980651-de3fff31-3d87-47e4-bb1a-12beafcd...</td>\n",
       "      <td>38</td>\n",
       "      <td>348</td>\n",
       "      <td>356</td>\n",
       "      <td>289</td>\n",
       "      <td>1</td>\n",
       "      <td>298</td>\n",
       "    </tr>\n",
       "  </tbody>\n",
       "</table>\n",
       "</div>"
      ],
      "text/plain": [
       "                                       business_uuid  frequency  recency   T  \\\n",
       "0  1406276528708-f8212391-f625-47cd-a108-dbf13c4a...          2      202 251   \n",
       "1  1407937721690-22878388-e481-46cb-8384-5dea1658...         28      336 348   \n",
       "2  1408597458035-ae9b4dc2-37a2-43b3-8410-834feb19...        135      357 361   \n",
       "3  1408653254676-abd0c2bb-f33c-42f0-a4c0-aa09011e...         17      249 339   \n",
       "4  1409234980651-de3fff31-3d87-47e4-bb1a-12beafcd...         38      348 356   \n",
       "\n",
       "   monetary_value  predicted_transactions  pred_txn_value  \n",
       "0             746                       0             852  \n",
       "1             316                       1             328  \n",
       "2             152                       4             154  \n",
       "3             418                       0             437  \n",
       "4             289                       1             298  "
      ]
     },
     "execution_count": 39,
     "metadata": {},
     "output_type": "execute_result"
    }
   ],
   "source": [
    "lt_data2['pred_txn_value'] = round(gamma_gamma_model.conditional_expected_average_profit(lt_data2['frequency'], lt_data2['monetary_value']), 2)\n",
    "lt_data2.reset_index().head()"
   ]
  },
  {
   "cell_type": "markdown",
   "id": "c22d3504",
   "metadata": {},
   "source": [
    "###### Calculate Customer Lifetime Value AND FROM the results the first customer has the highest customer lifetime value of 586,140 which means that he is likely to purchace 586,140 worth of items in the next 12 months and the average Customer Lifetime Value is 23,155.15"
   ]
  },
  {
   "cell_type": "code",
   "execution_count": 40,
   "id": "024ea6e7",
   "metadata": {},
   "outputs": [
    {
     "data": {
      "text/html": [
       "<div>\n",
       "<style scoped>\n",
       "    .dataframe tbody tr th:only-of-type {\n",
       "        vertical-align: middle;\n",
       "    }\n",
       "\n",
       "    .dataframe tbody tr th {\n",
       "        vertical-align: top;\n",
       "    }\n",
       "\n",
       "    .dataframe thead th {\n",
       "        text-align: right;\n",
       "    }\n",
       "</style>\n",
       "<table border=\"1\" class=\"dataframe\">\n",
       "  <thead>\n",
       "    <tr style=\"text-align: right;\">\n",
       "      <th></th>\n",
       "      <th>business_uuid</th>\n",
       "      <th>CLV</th>\n",
       "    </tr>\n",
       "  </thead>\n",
       "  <tbody>\n",
       "    <tr>\n",
       "      <th>0</th>\n",
       "      <td>1431433133107-089d14c3-5435-4b33-9973-70e2c0ff...</td>\n",
       "      <td>586,140</td>\n",
       "    </tr>\n",
       "    <tr>\n",
       "      <th>1</th>\n",
       "      <td>1443173830686-182c32d4-9a13-44ec-9610-8bccec45...</td>\n",
       "      <td>444,711</td>\n",
       "    </tr>\n",
       "    <tr>\n",
       "      <th>2</th>\n",
       "      <td>1445859989485-105adb75-9ed1-4062-8ded-4c468087...</td>\n",
       "      <td>313,353</td>\n",
       "    </tr>\n",
       "    <tr>\n",
       "      <th>3</th>\n",
       "      <td>1439553491873-e1dab1a6-6395-403f-a5c1-2a31a029...</td>\n",
       "      <td>268,325</td>\n",
       "    </tr>\n",
       "    <tr>\n",
       "      <th>4</th>\n",
       "      <td>1447176760825-e1228667-1a17-4d8e-84d4-3c49869b...</td>\n",
       "      <td>246,908</td>\n",
       "    </tr>\n",
       "    <tr>\n",
       "      <th>5</th>\n",
       "      <td>1444631878220-30320826-2647-470a-aff6-623f1295...</td>\n",
       "      <td>219,302</td>\n",
       "    </tr>\n",
       "    <tr>\n",
       "      <th>6</th>\n",
       "      <td>1447671150054-17afb918-94e7-440f-bf5d-5cffe961...</td>\n",
       "      <td>218,945</td>\n",
       "    </tr>\n",
       "    <tr>\n",
       "      <th>7</th>\n",
       "      <td>1443507623766-d7a7dd32-ca88-45ac-8533-bca483b5...</td>\n",
       "      <td>213,323</td>\n",
       "    </tr>\n",
       "    <tr>\n",
       "      <th>8</th>\n",
       "      <td>1440051882363-1378cba4-3b54-4f79-bf18-7045610a...</td>\n",
       "      <td>190,582</td>\n",
       "    </tr>\n",
       "    <tr>\n",
       "      <th>9</th>\n",
       "      <td>1413213171217-be88b1f4-ae0d-46c9-9210-ab72e2d5...</td>\n",
       "      <td>172,586</td>\n",
       "    </tr>\n",
       "  </tbody>\n",
       "</table>\n",
       "</div>"
      ],
      "text/plain": [
       "                                       business_uuid     CLV\n",
       "0  1431433133107-089d14c3-5435-4b33-9973-70e2c0ff... 586,140\n",
       "1  1443173830686-182c32d4-9a13-44ec-9610-8bccec45... 444,711\n",
       "2  1445859989485-105adb75-9ed1-4062-8ded-4c468087... 313,353\n",
       "3  1439553491873-e1dab1a6-6395-403f-a5c1-2a31a029... 268,325\n",
       "4  1447176760825-e1228667-1a17-4d8e-84d4-3c49869b... 246,908\n",
       "5  1444631878220-30320826-2647-470a-aff6-623f1295... 219,302\n",
       "6  1447671150054-17afb918-94e7-440f-bf5d-5cffe961... 218,945\n",
       "7  1443507623766-d7a7dd32-ca88-45ac-8533-bca483b5... 213,323\n",
       "8  1440051882363-1378cba4-3b54-4f79-bf18-7045610a... 190,582\n",
       "9  1413213171217-be88b1f4-ae0d-46c9-9210-ab72e2d5... 172,586"
      ]
     },
     "execution_count": 40,
     "metadata": {},
     "output_type": "execute_result"
    }
   ],
   "source": [
    "lt_data2['CLV'] = round(gamma_gamma_model.customer_lifetime_value(\n",
    "    bgf_model, #the model to use to predict the number of future transactions\n",
    "    lt_data2['frequency'],\n",
    "    lt_data2['recency'],\n",
    "    lt_data2['T'],\n",
    "    lt_data2['monetary_value'],\n",
    "    time=12, # months\n",
    "    discount_rate=0.01 # monthly discount rate ~ 12.7% annually\n",
    "), 2)\n",
    "\n",
    "lt_data2.drop(lt_data2.iloc[:, 0:6], inplace=True, axis=1)\n",
    "\n",
    "lt_data2.sort_values(by='CLV', ascending=False).head(10).reset_index()"
   ]
  },
  {
   "cell_type": "code",
   "execution_count": 42,
   "id": "e184b7db",
   "metadata": {},
   "outputs": [
    {
     "data": {
      "text/plain": [
       "23155.156639511202"
      ]
     },
     "execution_count": 42,
     "metadata": {},
     "output_type": "execute_result"
    }
   ],
   "source": [
    "lt_data2[\"CLV\"].mean()"
   ]
  },
  {
   "cell_type": "markdown",
   "id": "3a63eb2d",
   "metadata": {},
   "source": [
    "## Question 2"
   ]
  },
  {
   "cell_type": "markdown",
   "id": "a92e9e7d",
   "metadata": {},
   "source": [
    "### 1.mean processing time on aweekly basis"
   ]
  },
  {
   "cell_type": "code",
   "execution_count": 43,
   "id": "9449c39f",
   "metadata": {},
   "outputs": [],
   "source": [
    "data3 = data1.copy()"
   ]
  },
  {
   "cell_type": "code",
   "execution_count": 44,
   "id": "e7ff65cc",
   "metadata": {},
   "outputs": [],
   "source": [
    "data3 = data3.set_index(['created'])"
   ]
  },
  {
   "cell_type": "code",
   "execution_count": 45,
   "id": "4f24d337",
   "metadata": {},
   "outputs": [
    {
     "data": {
      "text/html": [
       "<div>\n",
       "<style scoped>\n",
       "    .dataframe tbody tr th:only-of-type {\n",
       "        vertical-align: middle;\n",
       "    }\n",
       "\n",
       "    .dataframe tbody tr th {\n",
       "        vertical-align: top;\n",
       "    }\n",
       "\n",
       "    .dataframe thead th {\n",
       "        text-align: right;\n",
       "    }\n",
       "</style>\n",
       "<table border=\"1\" class=\"dataframe\">\n",
       "  <thead>\n",
       "    <tr style=\"text-align: right;\">\n",
       "      <th></th>\n",
       "      <th>transaction_uuid</th>\n",
       "      <th>business_uuid</th>\n",
       "      <th>transaction_type</th>\n",
       "      <th>amount_usd</th>\n",
       "      <th>transaction_state</th>\n",
       "      <th>processing_time</th>\n",
       "      <th>phone_type</th>\n",
       "      <th>reader_type</th>\n",
       "      <th>connection_type</th>\n",
       "    </tr>\n",
       "    <tr>\n",
       "      <th>created</th>\n",
       "      <th></th>\n",
       "      <th></th>\n",
       "      <th></th>\n",
       "      <th></th>\n",
       "      <th></th>\n",
       "      <th></th>\n",
       "      <th></th>\n",
       "      <th></th>\n",
       "      <th></th>\n",
       "    </tr>\n",
       "  </thead>\n",
       "  <tbody>\n",
       "    <tr>\n",
       "      <th>2015-02-20</th>\n",
       "      <td>1424437465609-285a18be-f2fa-4d4c-a2ef-3bef9f3e...</td>\n",
       "      <td>1409234980651-de3fff31-3d87-47e4-bb1a-12beafcd...</td>\n",
       "      <td>credit_card</td>\n",
       "      <td>60</td>\n",
       "      <td>approved</td>\n",
       "      <td>19</td>\n",
       "      <td>NaN</td>\n",
       "      <td>NaN</td>\n",
       "      <td>NaN</td>\n",
       "    </tr>\n",
       "    <tr>\n",
       "      <th>2015-10-16</th>\n",
       "      <td>1444994656054-91a37566-c9ce-435a-ae8f-5f9aeb27...</td>\n",
       "      <td>1431433133107-089d14c3-5435-4b33-9973-70e2c0ff...</td>\n",
       "      <td>credit_card</td>\n",
       "      <td>220</td>\n",
       "      <td>approved</td>\n",
       "      <td>16</td>\n",
       "      <td>ios</td>\n",
       "      <td>E105</td>\n",
       "      <td>WiFi</td>\n",
       "    </tr>\n",
       "    <tr>\n",
       "      <th>2015-12-28</th>\n",
       "      <td>1451311977458-d794c535-d696-4830-b4b6-93c52ca5...</td>\n",
       "      <td>1442575726431-a066cad9-8f66-45da-abd8-165ce0a7...</td>\n",
       "      <td>credit_card</td>\n",
       "      <td>90</td>\n",
       "      <td>approved</td>\n",
       "      <td>14</td>\n",
       "      <td>ios</td>\n",
       "      <td>E105</td>\n",
       "      <td>WiFi</td>\n",
       "    </tr>\n",
       "    <tr>\n",
       "      <th>2015-10-13</th>\n",
       "      <td>1444763353752-bac376b0-80d9-46f5-9e21-9def71ee...</td>\n",
       "      <td>1436133508444-8d874705-6448-4d8d-88e0-5b0f8f4c...</td>\n",
       "      <td>credit_card</td>\n",
       "      <td>135</td>\n",
       "      <td>approved</td>\n",
       "      <td>15</td>\n",
       "      <td>ios</td>\n",
       "      <td>M010</td>\n",
       "      <td>WiFi</td>\n",
       "    </tr>\n",
       "    <tr>\n",
       "      <th>2015-12-12</th>\n",
       "      <td>1449883535047-1a9e1d5e-6151-4593-86db-bf504ab7...</td>\n",
       "      <td>1436123092750-68fb87cc-d43b-4468-9137-2841db30...</td>\n",
       "      <td>credit_card</td>\n",
       "      <td>162</td>\n",
       "      <td>approved</td>\n",
       "      <td>15</td>\n",
       "      <td>ios</td>\n",
       "      <td>M010</td>\n",
       "      <td>WiFi</td>\n",
       "    </tr>\n",
       "  </tbody>\n",
       "</table>\n",
       "</div>"
      ],
      "text/plain": [
       "                                             transaction_uuid  \\\n",
       "created                                                         \n",
       "2015-02-20  1424437465609-285a18be-f2fa-4d4c-a2ef-3bef9f3e...   \n",
       "2015-10-16  1444994656054-91a37566-c9ce-435a-ae8f-5f9aeb27...   \n",
       "2015-12-28  1451311977458-d794c535-d696-4830-b4b6-93c52ca5...   \n",
       "2015-10-13  1444763353752-bac376b0-80d9-46f5-9e21-9def71ee...   \n",
       "2015-12-12  1449883535047-1a9e1d5e-6151-4593-86db-bf504ab7...   \n",
       "\n",
       "                                                business_uuid  \\\n",
       "created                                                         \n",
       "2015-02-20  1409234980651-de3fff31-3d87-47e4-bb1a-12beafcd...   \n",
       "2015-10-16  1431433133107-089d14c3-5435-4b33-9973-70e2c0ff...   \n",
       "2015-12-28  1442575726431-a066cad9-8f66-45da-abd8-165ce0a7...   \n",
       "2015-10-13  1436133508444-8d874705-6448-4d8d-88e0-5b0f8f4c...   \n",
       "2015-12-12  1436123092750-68fb87cc-d43b-4468-9137-2841db30...   \n",
       "\n",
       "           transaction_type  amount_usd transaction_state  processing_time  \\\n",
       "created                                                                      \n",
       "2015-02-20      credit_card          60          approved               19   \n",
       "2015-10-16      credit_card         220          approved               16   \n",
       "2015-12-28      credit_card          90          approved               14   \n",
       "2015-10-13      credit_card         135          approved               15   \n",
       "2015-12-12      credit_card         162          approved               15   \n",
       "\n",
       "           phone_type reader_type connection_type  \n",
       "created                                            \n",
       "2015-02-20        NaN         NaN             NaN  \n",
       "2015-10-16        ios        E105            WiFi  \n",
       "2015-12-28        ios        E105            WiFi  \n",
       "2015-10-13        ios        M010            WiFi  \n",
       "2015-12-12        ios        M010            WiFi  "
      ]
     },
     "execution_count": 45,
     "metadata": {},
     "output_type": "execute_result"
    }
   ],
   "source": [
    "data3.head()"
   ]
  },
  {
   "cell_type": "code",
   "execution_count": 46,
   "id": "cf2744cf",
   "metadata": {},
   "outputs": [
    {
     "data": {
      "text/plain": [
       "created\n",
       "2015-02-01   19\n",
       "2015-02-08   19\n",
       "2015-02-15   16\n",
       "2015-02-22   19\n",
       "2015-03-01   15\n",
       "2015-03-08   14\n",
       "2015-03-15   14\n",
       "2015-03-22   15\n",
       "2015-03-29   17\n",
       "2015-04-05   16\n",
       "2015-04-12   15\n",
       "2015-04-19   18\n",
       "2015-04-26   16\n",
       "2015-05-03   15\n",
       "2015-05-10   18\n",
       "2015-05-17   15\n",
       "2015-05-24   17\n",
       "2015-05-31   18\n",
       "2015-06-07   19\n",
       "2015-06-14   16\n",
       "2015-06-21   21\n",
       "2015-06-28   18\n",
       "2015-07-05   17\n",
       "2015-07-12   30\n",
       "2015-07-19   20\n",
       "2015-07-26   18\n",
       "2015-08-02   17\n",
       "2015-08-09   21\n",
       "2015-08-16   22\n",
       "2015-08-23   18\n",
       "2015-08-30   18\n",
       "2015-09-06   18\n",
       "2015-09-13   18\n",
       "2015-09-20   19\n",
       "2015-09-27   29\n",
       "2015-10-04   20\n",
       "2015-10-11   23\n",
       "2015-10-18   23\n",
       "2015-10-25   24\n",
       "2015-11-01   22\n",
       "2015-11-08   18\n",
       "2015-11-15   21\n",
       "2015-11-22   18\n",
       "2015-11-29   22\n",
       "2015-12-06   19\n",
       "2015-12-13   17\n",
       "2015-12-20   73\n",
       "2015-12-27   36\n",
       "2016-01-03   18\n",
       "Freq: W-SUN, Name: processing_time, dtype: float64"
      ]
     },
     "execution_count": 46,
     "metadata": {},
     "output_type": "execute_result"
    }
   ],
   "source": [
    "weekly_mean_processing_time = data3.resample(rule = \"W\").mean()[\"processing_time\"]\n",
    "weekly_mean_processing_time.dropna()"
   ]
  },
  {
   "cell_type": "code",
   "execution_count": 47,
   "id": "264ccfab",
   "metadata": {},
   "outputs": [
    {
     "data": {
      "text/plain": [
       "20.150723322792814"
      ]
     },
     "execution_count": 47,
     "metadata": {},
     "output_type": "execute_result"
    }
   ],
   "source": [
    "weekly_mean_processing_time.mean()"
   ]
  },
  {
   "cell_type": "code",
   "execution_count": 48,
   "id": "3bc96be9",
   "metadata": {},
   "outputs": [
    {
     "data": {
      "text/plain": [
       "count   49\n",
       "mean    20\n",
       "std      9\n",
       "min     14\n",
       "25%     17\n",
       "50%     18\n",
       "75%     21\n",
       "max     73\n",
       "Name: processing_time, dtype: float64"
      ]
     },
     "execution_count": 48,
     "metadata": {},
     "output_type": "execute_result"
    }
   ],
   "source": [
    "weekly_mean_processing_time.describe()"
   ]
  },
  {
   "cell_type": "code",
   "execution_count": null,
   "id": "a2a09af0",
   "metadata": {},
   "outputs": [],
   "source": []
  },
  {
   "cell_type": "markdown",
   "id": "80775fa1",
   "metadata": {},
   "source": [
    "### 2.transaction approval rate"
   ]
  },
  {
   "cell_type": "code",
   "execution_count": 49,
   "id": "f95825e8",
   "metadata": {},
   "outputs": [
    {
     "data": {
      "text/html": [
       "<div>\n",
       "<style scoped>\n",
       "    .dataframe tbody tr th:only-of-type {\n",
       "        vertical-align: middle;\n",
       "    }\n",
       "\n",
       "    .dataframe tbody tr th {\n",
       "        vertical-align: top;\n",
       "    }\n",
       "\n",
       "    .dataframe thead th {\n",
       "        text-align: right;\n",
       "    }\n",
       "</style>\n",
       "<table border=\"1\" class=\"dataframe\">\n",
       "  <thead>\n",
       "    <tr style=\"text-align: right;\">\n",
       "      <th></th>\n",
       "      <th>transaction_uuid</th>\n",
       "      <th>business_uuid</th>\n",
       "      <th>created</th>\n",
       "      <th>transaction_type</th>\n",
       "      <th>amount_usd</th>\n",
       "      <th>transaction_state</th>\n",
       "      <th>processing_time</th>\n",
       "      <th>phone_type</th>\n",
       "      <th>reader_type</th>\n",
       "      <th>connection_type</th>\n",
       "    </tr>\n",
       "  </thead>\n",
       "  <tbody>\n",
       "    <tr>\n",
       "      <th>0</th>\n",
       "      <td>1424437465609-285a18be-f2fa-4d4c-a2ef-3bef9f3e...</td>\n",
       "      <td>1409234980651-de3fff31-3d87-47e4-bb1a-12beafcd...</td>\n",
       "      <td>2015-02-20</td>\n",
       "      <td>credit_card</td>\n",
       "      <td>60</td>\n",
       "      <td>approved</td>\n",
       "      <td>19</td>\n",
       "      <td>NaN</td>\n",
       "      <td>NaN</td>\n",
       "      <td>NaN</td>\n",
       "    </tr>\n",
       "    <tr>\n",
       "      <th>1</th>\n",
       "      <td>1444994656054-91a37566-c9ce-435a-ae8f-5f9aeb27...</td>\n",
       "      <td>1431433133107-089d14c3-5435-4b33-9973-70e2c0ff...</td>\n",
       "      <td>2015-10-16</td>\n",
       "      <td>credit_card</td>\n",
       "      <td>220</td>\n",
       "      <td>approved</td>\n",
       "      <td>16</td>\n",
       "      <td>ios</td>\n",
       "      <td>E105</td>\n",
       "      <td>WiFi</td>\n",
       "    </tr>\n",
       "    <tr>\n",
       "      <th>2</th>\n",
       "      <td>1451311977458-d794c535-d696-4830-b4b6-93c52ca5...</td>\n",
       "      <td>1442575726431-a066cad9-8f66-45da-abd8-165ce0a7...</td>\n",
       "      <td>2015-12-28</td>\n",
       "      <td>credit_card</td>\n",
       "      <td>90</td>\n",
       "      <td>approved</td>\n",
       "      <td>14</td>\n",
       "      <td>ios</td>\n",
       "      <td>E105</td>\n",
       "      <td>WiFi</td>\n",
       "    </tr>\n",
       "    <tr>\n",
       "      <th>3</th>\n",
       "      <td>1444763353752-bac376b0-80d9-46f5-9e21-9def71ee...</td>\n",
       "      <td>1436133508444-8d874705-6448-4d8d-88e0-5b0f8f4c...</td>\n",
       "      <td>2015-10-13</td>\n",
       "      <td>credit_card</td>\n",
       "      <td>135</td>\n",
       "      <td>approved</td>\n",
       "      <td>15</td>\n",
       "      <td>ios</td>\n",
       "      <td>M010</td>\n",
       "      <td>WiFi</td>\n",
       "    </tr>\n",
       "    <tr>\n",
       "      <th>4</th>\n",
       "      <td>1449883535047-1a9e1d5e-6151-4593-86db-bf504ab7...</td>\n",
       "      <td>1436123092750-68fb87cc-d43b-4468-9137-2841db30...</td>\n",
       "      <td>2015-12-12</td>\n",
       "      <td>credit_card</td>\n",
       "      <td>162</td>\n",
       "      <td>approved</td>\n",
       "      <td>15</td>\n",
       "      <td>ios</td>\n",
       "      <td>M010</td>\n",
       "      <td>WiFi</td>\n",
       "    </tr>\n",
       "  </tbody>\n",
       "</table>\n",
       "</div>"
      ],
      "text/plain": [
       "                                    transaction_uuid  \\\n",
       "0  1424437465609-285a18be-f2fa-4d4c-a2ef-3bef9f3e...   \n",
       "1  1444994656054-91a37566-c9ce-435a-ae8f-5f9aeb27...   \n",
       "2  1451311977458-d794c535-d696-4830-b4b6-93c52ca5...   \n",
       "3  1444763353752-bac376b0-80d9-46f5-9e21-9def71ee...   \n",
       "4  1449883535047-1a9e1d5e-6151-4593-86db-bf504ab7...   \n",
       "\n",
       "                                       business_uuid    created  \\\n",
       "0  1409234980651-de3fff31-3d87-47e4-bb1a-12beafcd... 2015-02-20   \n",
       "1  1431433133107-089d14c3-5435-4b33-9973-70e2c0ff... 2015-10-16   \n",
       "2  1442575726431-a066cad9-8f66-45da-abd8-165ce0a7... 2015-12-28   \n",
       "3  1436133508444-8d874705-6448-4d8d-88e0-5b0f8f4c... 2015-10-13   \n",
       "4  1436123092750-68fb87cc-d43b-4468-9137-2841db30... 2015-12-12   \n",
       "\n",
       "  transaction_type  amount_usd transaction_state  processing_time phone_type  \\\n",
       "0      credit_card          60          approved               19        NaN   \n",
       "1      credit_card         220          approved               16        ios   \n",
       "2      credit_card          90          approved               14        ios   \n",
       "3      credit_card         135          approved               15        ios   \n",
       "4      credit_card         162          approved               15        ios   \n",
       "\n",
       "  reader_type connection_type  \n",
       "0         NaN             NaN  \n",
       "1        E105            WiFi  \n",
       "2        E105            WiFi  \n",
       "3        M010            WiFi  \n",
       "4        M010            WiFi  "
      ]
     },
     "execution_count": 49,
     "metadata": {},
     "output_type": "execute_result"
    }
   ],
   "source": [
    "data1.head()"
   ]
  },
  {
   "cell_type": "code",
   "execution_count": 51,
   "id": "3b8d0b36",
   "metadata": {},
   "outputs": [
    {
     "data": {
      "text/plain": [
       "count        15237\n",
       "unique           5\n",
       "top       approved\n",
       "freq         12121\n",
       "Name: transaction_state, dtype: object"
      ]
     },
     "execution_count": 51,
     "metadata": {},
     "output_type": "execute_result"
    }
   ],
   "source": [
    "data1[\"transaction_state\"].describe()"
   ]
  },
  {
   "cell_type": "code",
   "execution_count": 64,
   "id": "3d745d87",
   "metadata": {},
   "outputs": [
    {
     "data": {
      "text/plain": [
       "approved    12121\n",
       "error        1614\n",
       "aborted      1167\n",
       "declined      263\n",
       "refunded       72\n",
       "Name: transaction_state, dtype: int64"
      ]
     },
     "execution_count": 64,
     "metadata": {},
     "output_type": "execute_result"
    }
   ],
   "source": [
    "data1[\"transaction_state\"].value_counts()"
   ]
  },
  {
   "cell_type": "code",
   "execution_count": 53,
   "id": "f08eff57",
   "metadata": {},
   "outputs": [
    {
     "name": "stdout",
     "output_type": "stream",
     "text": [
      "Thus the rate of transaction approval is 79.55%\n"
     ]
    }
   ],
   "source": [
    "apprv_rate = round(sum(data1[\"transaction_state\"] == \"approved\")/len(data1[\"transaction_state\"])*(100),2)\n",
    "print(f\"Thus the rate of transaction approval is {apprv_rate}%\")"
   ]
  },
  {
   "cell_type": "markdown",
   "id": "8533cb1e",
   "metadata": {},
   "source": [
    "### 3.credit card transaction rate"
   ]
  },
  {
   "cell_type": "code",
   "execution_count": 54,
   "id": "f64db8a0",
   "metadata": {},
   "outputs": [
    {
     "data": {
      "text/html": [
       "<div>\n",
       "<style scoped>\n",
       "    .dataframe tbody tr th:only-of-type {\n",
       "        vertical-align: middle;\n",
       "    }\n",
       "\n",
       "    .dataframe tbody tr th {\n",
       "        vertical-align: top;\n",
       "    }\n",
       "\n",
       "    .dataframe thead th {\n",
       "        text-align: right;\n",
       "    }\n",
       "</style>\n",
       "<table border=\"1\" class=\"dataframe\">\n",
       "  <thead>\n",
       "    <tr style=\"text-align: right;\">\n",
       "      <th></th>\n",
       "      <th>transaction_uuid</th>\n",
       "      <th>business_uuid</th>\n",
       "      <th>created</th>\n",
       "      <th>transaction_type</th>\n",
       "      <th>amount_usd</th>\n",
       "      <th>transaction_state</th>\n",
       "      <th>processing_time</th>\n",
       "      <th>phone_type</th>\n",
       "      <th>reader_type</th>\n",
       "      <th>connection_type</th>\n",
       "    </tr>\n",
       "  </thead>\n",
       "  <tbody>\n",
       "    <tr>\n",
       "      <th>0</th>\n",
       "      <td>1424437465609-285a18be-f2fa-4d4c-a2ef-3bef9f3e...</td>\n",
       "      <td>1409234980651-de3fff31-3d87-47e4-bb1a-12beafcd...</td>\n",
       "      <td>2015-02-20</td>\n",
       "      <td>credit_card</td>\n",
       "      <td>60</td>\n",
       "      <td>approved</td>\n",
       "      <td>19</td>\n",
       "      <td>NaN</td>\n",
       "      <td>NaN</td>\n",
       "      <td>NaN</td>\n",
       "    </tr>\n",
       "    <tr>\n",
       "      <th>1</th>\n",
       "      <td>1444994656054-91a37566-c9ce-435a-ae8f-5f9aeb27...</td>\n",
       "      <td>1431433133107-089d14c3-5435-4b33-9973-70e2c0ff...</td>\n",
       "      <td>2015-10-16</td>\n",
       "      <td>credit_card</td>\n",
       "      <td>220</td>\n",
       "      <td>approved</td>\n",
       "      <td>16</td>\n",
       "      <td>ios</td>\n",
       "      <td>E105</td>\n",
       "      <td>WiFi</td>\n",
       "    </tr>\n",
       "    <tr>\n",
       "      <th>2</th>\n",
       "      <td>1451311977458-d794c535-d696-4830-b4b6-93c52ca5...</td>\n",
       "      <td>1442575726431-a066cad9-8f66-45da-abd8-165ce0a7...</td>\n",
       "      <td>2015-12-28</td>\n",
       "      <td>credit_card</td>\n",
       "      <td>90</td>\n",
       "      <td>approved</td>\n",
       "      <td>14</td>\n",
       "      <td>ios</td>\n",
       "      <td>E105</td>\n",
       "      <td>WiFi</td>\n",
       "    </tr>\n",
       "    <tr>\n",
       "      <th>3</th>\n",
       "      <td>1444763353752-bac376b0-80d9-46f5-9e21-9def71ee...</td>\n",
       "      <td>1436133508444-8d874705-6448-4d8d-88e0-5b0f8f4c...</td>\n",
       "      <td>2015-10-13</td>\n",
       "      <td>credit_card</td>\n",
       "      <td>135</td>\n",
       "      <td>approved</td>\n",
       "      <td>15</td>\n",
       "      <td>ios</td>\n",
       "      <td>M010</td>\n",
       "      <td>WiFi</td>\n",
       "    </tr>\n",
       "    <tr>\n",
       "      <th>4</th>\n",
       "      <td>1449883535047-1a9e1d5e-6151-4593-86db-bf504ab7...</td>\n",
       "      <td>1436123092750-68fb87cc-d43b-4468-9137-2841db30...</td>\n",
       "      <td>2015-12-12</td>\n",
       "      <td>credit_card</td>\n",
       "      <td>162</td>\n",
       "      <td>approved</td>\n",
       "      <td>15</td>\n",
       "      <td>ios</td>\n",
       "      <td>M010</td>\n",
       "      <td>WiFi</td>\n",
       "    </tr>\n",
       "  </tbody>\n",
       "</table>\n",
       "</div>"
      ],
      "text/plain": [
       "                                    transaction_uuid  \\\n",
       "0  1424437465609-285a18be-f2fa-4d4c-a2ef-3bef9f3e...   \n",
       "1  1444994656054-91a37566-c9ce-435a-ae8f-5f9aeb27...   \n",
       "2  1451311977458-d794c535-d696-4830-b4b6-93c52ca5...   \n",
       "3  1444763353752-bac376b0-80d9-46f5-9e21-9def71ee...   \n",
       "4  1449883535047-1a9e1d5e-6151-4593-86db-bf504ab7...   \n",
       "\n",
       "                                       business_uuid    created  \\\n",
       "0  1409234980651-de3fff31-3d87-47e4-bb1a-12beafcd... 2015-02-20   \n",
       "1  1431433133107-089d14c3-5435-4b33-9973-70e2c0ff... 2015-10-16   \n",
       "2  1442575726431-a066cad9-8f66-45da-abd8-165ce0a7... 2015-12-28   \n",
       "3  1436133508444-8d874705-6448-4d8d-88e0-5b0f8f4c... 2015-10-13   \n",
       "4  1436123092750-68fb87cc-d43b-4468-9137-2841db30... 2015-12-12   \n",
       "\n",
       "  transaction_type  amount_usd transaction_state  processing_time phone_type  \\\n",
       "0      credit_card          60          approved               19        NaN   \n",
       "1      credit_card         220          approved               16        ios   \n",
       "2      credit_card          90          approved               14        ios   \n",
       "3      credit_card         135          approved               15        ios   \n",
       "4      credit_card         162          approved               15        ios   \n",
       "\n",
       "  reader_type connection_type  \n",
       "0         NaN             NaN  \n",
       "1        E105            WiFi  \n",
       "2        E105            WiFi  \n",
       "3        M010            WiFi  \n",
       "4        M010            WiFi  "
      ]
     },
     "execution_count": 54,
     "metadata": {},
     "output_type": "execute_result"
    }
   ],
   "source": [
    "data1.head()"
   ]
  },
  {
   "cell_type": "code",
   "execution_count": 55,
   "id": "f45f0fcb",
   "metadata": {},
   "outputs": [
    {
     "data": {
      "text/plain": [
       "credit_card    14602\n",
       "cash             635\n",
       "Name: transaction_type, dtype: int64"
      ]
     },
     "execution_count": 55,
     "metadata": {},
     "output_type": "execute_result"
    }
   ],
   "source": [
    "data1[\"transaction_type\"].value_counts()"
   ]
  },
  {
   "cell_type": "code",
   "execution_count": 56,
   "id": "50aab73b",
   "metadata": {},
   "outputs": [
    {
     "data": {
      "text/plain": [
       "count           15237\n",
       "unique              2\n",
       "top       credit_card\n",
       "freq            14602\n",
       "Name: transaction_type, dtype: object"
      ]
     },
     "execution_count": 56,
     "metadata": {},
     "output_type": "execute_result"
    }
   ],
   "source": [
    "data1[\"transaction_type\"].describe()"
   ]
  },
  {
   "cell_type": "code",
   "execution_count": 57,
   "id": "6b3d5fad",
   "metadata": {},
   "outputs": [
    {
     "name": "stdout",
     "output_type": "stream",
     "text": [
      "Thus the credit card transaction rate is 95.83%\n"
     ]
    }
   ],
   "source": [
    "cred_trans_rate = round(sum(data1[\"transaction_type\"] == \"credit_card\")/len(data1[\"transaction_type\"])*(100),2)\n",
    "print(f\"Thus the credit card transaction rate is {cred_trans_rate}%\")"
   ]
  },
  {
   "cell_type": "code",
   "execution_count": null,
   "id": "77577efd",
   "metadata": {},
   "outputs": [],
   "source": []
  },
  {
   "cell_type": "markdown",
   "id": "2acbf8c8",
   "metadata": {},
   "source": [
    "### 4.Average TransACTIONS per week"
   ]
  },
  {
   "cell_type": "code",
   "execution_count": 58,
   "id": "9babdcba",
   "metadata": {},
   "outputs": [
    {
     "data": {
      "text/html": [
       "<div>\n",
       "<style scoped>\n",
       "    .dataframe tbody tr th:only-of-type {\n",
       "        vertical-align: middle;\n",
       "    }\n",
       "\n",
       "    .dataframe tbody tr th {\n",
       "        vertical-align: top;\n",
       "    }\n",
       "\n",
       "    .dataframe thead th {\n",
       "        text-align: right;\n",
       "    }\n",
       "</style>\n",
       "<table border=\"1\" class=\"dataframe\">\n",
       "  <thead>\n",
       "    <tr style=\"text-align: right;\">\n",
       "      <th></th>\n",
       "      <th>transaction_uuid</th>\n",
       "      <th>business_uuid</th>\n",
       "      <th>transaction_type</th>\n",
       "      <th>amount_usd</th>\n",
       "      <th>transaction_state</th>\n",
       "      <th>processing_time</th>\n",
       "      <th>phone_type</th>\n",
       "      <th>reader_type</th>\n",
       "      <th>connection_type</th>\n",
       "    </tr>\n",
       "    <tr>\n",
       "      <th>created</th>\n",
       "      <th></th>\n",
       "      <th></th>\n",
       "      <th></th>\n",
       "      <th></th>\n",
       "      <th></th>\n",
       "      <th></th>\n",
       "      <th></th>\n",
       "      <th></th>\n",
       "      <th></th>\n",
       "    </tr>\n",
       "  </thead>\n",
       "  <tbody>\n",
       "    <tr>\n",
       "      <th>2015-02-20</th>\n",
       "      <td>1424437465609-285a18be-f2fa-4d4c-a2ef-3bef9f3e...</td>\n",
       "      <td>1409234980651-de3fff31-3d87-47e4-bb1a-12beafcd...</td>\n",
       "      <td>credit_card</td>\n",
       "      <td>60</td>\n",
       "      <td>approved</td>\n",
       "      <td>19</td>\n",
       "      <td>NaN</td>\n",
       "      <td>NaN</td>\n",
       "      <td>NaN</td>\n",
       "    </tr>\n",
       "    <tr>\n",
       "      <th>2015-10-16</th>\n",
       "      <td>1444994656054-91a37566-c9ce-435a-ae8f-5f9aeb27...</td>\n",
       "      <td>1431433133107-089d14c3-5435-4b33-9973-70e2c0ff...</td>\n",
       "      <td>credit_card</td>\n",
       "      <td>220</td>\n",
       "      <td>approved</td>\n",
       "      <td>16</td>\n",
       "      <td>ios</td>\n",
       "      <td>E105</td>\n",
       "      <td>WiFi</td>\n",
       "    </tr>\n",
       "    <tr>\n",
       "      <th>2015-12-28</th>\n",
       "      <td>1451311977458-d794c535-d696-4830-b4b6-93c52ca5...</td>\n",
       "      <td>1442575726431-a066cad9-8f66-45da-abd8-165ce0a7...</td>\n",
       "      <td>credit_card</td>\n",
       "      <td>90</td>\n",
       "      <td>approved</td>\n",
       "      <td>14</td>\n",
       "      <td>ios</td>\n",
       "      <td>E105</td>\n",
       "      <td>WiFi</td>\n",
       "    </tr>\n",
       "    <tr>\n",
       "      <th>2015-10-13</th>\n",
       "      <td>1444763353752-bac376b0-80d9-46f5-9e21-9def71ee...</td>\n",
       "      <td>1436133508444-8d874705-6448-4d8d-88e0-5b0f8f4c...</td>\n",
       "      <td>credit_card</td>\n",
       "      <td>135</td>\n",
       "      <td>approved</td>\n",
       "      <td>15</td>\n",
       "      <td>ios</td>\n",
       "      <td>M010</td>\n",
       "      <td>WiFi</td>\n",
       "    </tr>\n",
       "    <tr>\n",
       "      <th>2015-12-12</th>\n",
       "      <td>1449883535047-1a9e1d5e-6151-4593-86db-bf504ab7...</td>\n",
       "      <td>1436123092750-68fb87cc-d43b-4468-9137-2841db30...</td>\n",
       "      <td>credit_card</td>\n",
       "      <td>162</td>\n",
       "      <td>approved</td>\n",
       "      <td>15</td>\n",
       "      <td>ios</td>\n",
       "      <td>M010</td>\n",
       "      <td>WiFi</td>\n",
       "    </tr>\n",
       "  </tbody>\n",
       "</table>\n",
       "</div>"
      ],
      "text/plain": [
       "                                             transaction_uuid  \\\n",
       "created                                                         \n",
       "2015-02-20  1424437465609-285a18be-f2fa-4d4c-a2ef-3bef9f3e...   \n",
       "2015-10-16  1444994656054-91a37566-c9ce-435a-ae8f-5f9aeb27...   \n",
       "2015-12-28  1451311977458-d794c535-d696-4830-b4b6-93c52ca5...   \n",
       "2015-10-13  1444763353752-bac376b0-80d9-46f5-9e21-9def71ee...   \n",
       "2015-12-12  1449883535047-1a9e1d5e-6151-4593-86db-bf504ab7...   \n",
       "\n",
       "                                                business_uuid  \\\n",
       "created                                                         \n",
       "2015-02-20  1409234980651-de3fff31-3d87-47e4-bb1a-12beafcd...   \n",
       "2015-10-16  1431433133107-089d14c3-5435-4b33-9973-70e2c0ff...   \n",
       "2015-12-28  1442575726431-a066cad9-8f66-45da-abd8-165ce0a7...   \n",
       "2015-10-13  1436133508444-8d874705-6448-4d8d-88e0-5b0f8f4c...   \n",
       "2015-12-12  1436123092750-68fb87cc-d43b-4468-9137-2841db30...   \n",
       "\n",
       "           transaction_type  amount_usd transaction_state  processing_time  \\\n",
       "created                                                                      \n",
       "2015-02-20      credit_card          60          approved               19   \n",
       "2015-10-16      credit_card         220          approved               16   \n",
       "2015-12-28      credit_card          90          approved               14   \n",
       "2015-10-13      credit_card         135          approved               15   \n",
       "2015-12-12      credit_card         162          approved               15   \n",
       "\n",
       "           phone_type reader_type connection_type  \n",
       "created                                            \n",
       "2015-02-20        NaN         NaN             NaN  \n",
       "2015-10-16        ios        E105            WiFi  \n",
       "2015-12-28        ios        E105            WiFi  \n",
       "2015-10-13        ios        M010            WiFi  \n",
       "2015-12-12        ios        M010            WiFi  "
      ]
     },
     "execution_count": 58,
     "metadata": {},
     "output_type": "execute_result"
    }
   ],
   "source": [
    "data3.head()"
   ]
  },
  {
   "cell_type": "code",
   "execution_count": 59,
   "id": "a956a843",
   "metadata": {},
   "outputs": [
    {
     "data": {
      "text/plain": [
       "142.32075471698113"
      ]
     },
     "execution_count": 59,
     "metadata": {},
     "output_type": "execute_result"
    }
   ],
   "source": [
    "data3.resample(rule = \"W\").nunique()[\"amount_usd\"].mean()"
   ]
  },
  {
   "cell_type": "code",
   "execution_count": null,
   "id": "10e772d6",
   "metadata": {},
   "outputs": [],
   "source": []
  }
 ],
 "metadata": {
  "kernelspec": {
   "display_name": "Python 3 (ipykernel)",
   "language": "python",
   "name": "python3"
  },
  "language_info": {
   "codemirror_mode": {
    "name": "ipython",
    "version": 3
   },
   "file_extension": ".py",
   "mimetype": "text/x-python",
   "name": "python",
   "nbconvert_exporter": "python",
   "pygments_lexer": "ipython3",
   "version": "3.7.2"
  }
 },
 "nbformat": 4,
 "nbformat_minor": 5
}
